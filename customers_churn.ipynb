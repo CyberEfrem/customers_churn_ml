{
 "cells": [
  {
   "cell_type": "markdown",
   "metadata": {
    "toc": true
   },
   "source": [
    "<h1>Содержание<span class=\"tocSkip\"></span></h1>\n",
    "<div class=\"toc\"><ul class=\"toc-item\"><li><span><a href=\"#Подготовка-данных\" data-toc-modified-id=\"Подготовка-данных-1\"><span class=\"toc-item-num\">1&nbsp;&nbsp;</span>Подготовка данных</a></span></li><li><span><a href=\"#Исследование-задачи\" data-toc-modified-id=\"Исследование-задачи-2\"><span class=\"toc-item-num\">2&nbsp;&nbsp;</span>Исследование задачи</a></span></li><li><span><a href=\"#Борьба-с-дисбалансом\" data-toc-modified-id=\"Борьба-с-дисбалансом-3\"><span class=\"toc-item-num\">3&nbsp;&nbsp;</span>Борьба с дисбалансом</a></span></li><li><span><a href=\"#Тестирование-модели\" data-toc-modified-id=\"Тестирование-модели-4\"><span class=\"toc-item-num\">4&nbsp;&nbsp;</span>Тестирование модели</a></span></li><li><span><a href=\"#Чек-лист-готовности-проекта\" data-toc-modified-id=\"Чек-лист-готовности-проекта-5\"><span class=\"toc-item-num\">5&nbsp;&nbsp;</span>Чек-лист готовности проекта</a></span></li></ul></div>"
   ]
  },
  {
   "cell_type": "markdown",
   "metadata": {},
   "source": [
    "# Отток клиентов"
   ]
  },
  {
   "cell_type": "markdown",
   "metadata": {},
   "source": [
    "**Цель:** сохранять текущих клиентов.\n",
    "\n",
    "**Задача:** \n",
    "- спрогнозировать, уйдёт клиент из банка в ближайшее время или нет. \n",
    "- построить модель с предельно большим значением *F1*-меры. Нужно довести метрику до 0.59. \n",
    "- Дополнительно измерить *AUC-ROC*, сравнить её значение с *F1*-мерой.\n",
    "\n",
    "**Данные:* предоставлены исторические данные о поведении клиентов и расторжении договоров с банком.\n",
    "\n",
    "Источник данных: [https://www.kaggle.com/barelydedicated/bank-customer-churn-modeling](https://www.kaggle.com/barelydedicated/bank-customer-churn-modeling)\n",
    "\n",
    "*Признаки*\n",
    "- RowNumber — индекс строки в данных\n",
    "- CustomerId — уникальный идентификатор клиента\n",
    "- Surname — фамилия\n",
    "- CreditScore — кредитный рейтинг\n",
    "- Geography — страна проживания\n",
    "- Gender — пол\n",
    "- Age — возраст\n",
    "- Tenure — сколько лет человек является клиентом банка\n",
    "- Balance — баланс на счёте\n",
    "- NumOfProducts — количество продуктов банка, используемых клиентом\n",
    "- HasCrCard — наличие кредитной карты\n",
    "- IsActiveMember — активность клиента\n",
    "- EstimatedSalary — предполагаемая зарплата\n",
    "\n",
    "*Целевой признак*\n",
    "- Exited — факт ухода клиента"
   ]
  },
  {
   "cell_type": "markdown",
   "metadata": {},
   "source": [
    "## Подготовка данных"
   ]
  },
  {
   "cell_type": "markdown",
   "metadata": {},
   "source": [
    "Импортируем библиотеки и ознакомимся с данными."
   ]
  },
  {
   "cell_type": "code",
   "execution_count": 3,
   "metadata": {},
   "outputs": [],
   "source": [
    "import numpy as np\n",
    "import pandas as pd\n",
    "import seaborn as sns\n",
    "import matplotlib.pyplot as plt\n",
    "\n",
    "from sklearn.metrics import roc_curve, auc, mean_squared_error, f1_score, roc_auc_score\n",
    "\n",
    "from sklearn.linear_model import LogisticRegression\n",
    "from sklearn.ensemble import RandomForestClassifier\n",
    "\n",
    "from sklearn.preprocessing import MinMaxScaler\n",
    "from sklearn.utils import shuffle\n",
    "from sklearn.model_selection import train_test_split\n",
    "\n",
    "\n",
    "sns.set(style=\"darkgrid\")\n",
    "%matplotlib inline"
   ]
  },
  {
   "cell_type": "code",
   "execution_count": 4,
   "metadata": {},
   "outputs": [],
   "source": [
    "frame = pd.read_csv(\"/datasets/Churn.csv\")"
   ]
  },
  {
   "cell_type": "code",
   "execution_count": 5,
   "metadata": {},
   "outputs": [
    {
     "name": "stdout",
     "output_type": "stream",
     "text": [
      "<class 'pandas.core.frame.DataFrame'>\n",
      "RangeIndex: 10000 entries, 0 to 9999\n",
      "Data columns (total 14 columns):\n",
      "RowNumber          10000 non-null int64\n",
      "CustomerId         10000 non-null int64\n",
      "Surname            10000 non-null object\n",
      "CreditScore        10000 non-null int64\n",
      "Geography          10000 non-null object\n",
      "Gender             10000 non-null object\n",
      "Age                10000 non-null int64\n",
      "Tenure             9091 non-null float64\n",
      "Balance            10000 non-null float64\n",
      "NumOfProducts      10000 non-null int64\n",
      "HasCrCard          10000 non-null int64\n",
      "IsActiveMember     10000 non-null int64\n",
      "EstimatedSalary    10000 non-null float64\n",
      "Exited             10000 non-null int64\n",
      "dtypes: float64(3), int64(8), object(3)\n",
      "memory usage: 1.1+ MB\n"
     ]
    }
   ],
   "source": [
    "frame.info()"
   ]
  },
  {
   "cell_type": "markdown",
   "metadata": {},
   "source": [
    "Столбец `Tenure` содержит около 10% пропущенных значений, их нужно будет заполнить.\n",
    "<hr>\n",
    "Изучим значения статистик и проверим на наличие дубликатов."
   ]
  },
  {
   "cell_type": "code",
   "execution_count": 6,
   "metadata": {},
   "outputs": [
    {
     "data": {
      "text/html": [
       "<div>\n",
       "<style scoped>\n",
       "    .dataframe tbody tr th:only-of-type {\n",
       "        vertical-align: middle;\n",
       "    }\n",
       "\n",
       "    .dataframe tbody tr th {\n",
       "        vertical-align: top;\n",
       "    }\n",
       "\n",
       "    .dataframe thead th {\n",
       "        text-align: right;\n",
       "    }\n",
       "</style>\n",
       "<table border=\"1\" class=\"dataframe\">\n",
       "  <thead>\n",
       "    <tr style=\"text-align: right;\">\n",
       "      <th></th>\n",
       "      <th>RowNumber</th>\n",
       "      <th>CustomerId</th>\n",
       "      <th>Surname</th>\n",
       "      <th>CreditScore</th>\n",
       "      <th>Geography</th>\n",
       "      <th>Gender</th>\n",
       "      <th>Age</th>\n",
       "      <th>Tenure</th>\n",
       "      <th>Balance</th>\n",
       "      <th>NumOfProducts</th>\n",
       "      <th>HasCrCard</th>\n",
       "      <th>IsActiveMember</th>\n",
       "      <th>EstimatedSalary</th>\n",
       "      <th>Exited</th>\n",
       "    </tr>\n",
       "  </thead>\n",
       "  <tbody>\n",
       "    <tr>\n",
       "      <td>0</td>\n",
       "      <td>1</td>\n",
       "      <td>15634602</td>\n",
       "      <td>Hargrave</td>\n",
       "      <td>619</td>\n",
       "      <td>France</td>\n",
       "      <td>Female</td>\n",
       "      <td>42</td>\n",
       "      <td>2.0</td>\n",
       "      <td>0.00</td>\n",
       "      <td>1</td>\n",
       "      <td>1</td>\n",
       "      <td>1</td>\n",
       "      <td>101348.88</td>\n",
       "      <td>1</td>\n",
       "    </tr>\n",
       "    <tr>\n",
       "      <td>1</td>\n",
       "      <td>2</td>\n",
       "      <td>15647311</td>\n",
       "      <td>Hill</td>\n",
       "      <td>608</td>\n",
       "      <td>Spain</td>\n",
       "      <td>Female</td>\n",
       "      <td>41</td>\n",
       "      <td>1.0</td>\n",
       "      <td>83807.86</td>\n",
       "      <td>1</td>\n",
       "      <td>0</td>\n",
       "      <td>1</td>\n",
       "      <td>112542.58</td>\n",
       "      <td>0</td>\n",
       "    </tr>\n",
       "    <tr>\n",
       "      <td>2</td>\n",
       "      <td>3</td>\n",
       "      <td>15619304</td>\n",
       "      <td>Onio</td>\n",
       "      <td>502</td>\n",
       "      <td>France</td>\n",
       "      <td>Female</td>\n",
       "      <td>42</td>\n",
       "      <td>8.0</td>\n",
       "      <td>159660.80</td>\n",
       "      <td>3</td>\n",
       "      <td>1</td>\n",
       "      <td>0</td>\n",
       "      <td>113931.57</td>\n",
       "      <td>1</td>\n",
       "    </tr>\n",
       "    <tr>\n",
       "      <td>3</td>\n",
       "      <td>4</td>\n",
       "      <td>15701354</td>\n",
       "      <td>Boni</td>\n",
       "      <td>699</td>\n",
       "      <td>France</td>\n",
       "      <td>Female</td>\n",
       "      <td>39</td>\n",
       "      <td>1.0</td>\n",
       "      <td>0.00</td>\n",
       "      <td>2</td>\n",
       "      <td>0</td>\n",
       "      <td>0</td>\n",
       "      <td>93826.63</td>\n",
       "      <td>0</td>\n",
       "    </tr>\n",
       "    <tr>\n",
       "      <td>4</td>\n",
       "      <td>5</td>\n",
       "      <td>15737888</td>\n",
       "      <td>Mitchell</td>\n",
       "      <td>850</td>\n",
       "      <td>Spain</td>\n",
       "      <td>Female</td>\n",
       "      <td>43</td>\n",
       "      <td>2.0</td>\n",
       "      <td>125510.82</td>\n",
       "      <td>1</td>\n",
       "      <td>1</td>\n",
       "      <td>1</td>\n",
       "      <td>79084.10</td>\n",
       "      <td>0</td>\n",
       "    </tr>\n",
       "  </tbody>\n",
       "</table>\n",
       "</div>"
      ],
      "text/plain": [
       "   RowNumber  CustomerId   Surname  CreditScore Geography  Gender  Age  \\\n",
       "0          1    15634602  Hargrave          619    France  Female   42   \n",
       "1          2    15647311      Hill          608     Spain  Female   41   \n",
       "2          3    15619304      Onio          502    France  Female   42   \n",
       "3          4    15701354      Boni          699    France  Female   39   \n",
       "4          5    15737888  Mitchell          850     Spain  Female   43   \n",
       "\n",
       "   Tenure    Balance  NumOfProducts  HasCrCard  IsActiveMember  \\\n",
       "0     2.0       0.00              1          1               1   \n",
       "1     1.0   83807.86              1          0               1   \n",
       "2     8.0  159660.80              3          1               0   \n",
       "3     1.0       0.00              2          0               0   \n",
       "4     2.0  125510.82              1          1               1   \n",
       "\n",
       "   EstimatedSalary  Exited  \n",
       "0        101348.88       1  \n",
       "1        112542.58       0  \n",
       "2        113931.57       1  \n",
       "3         93826.63       0  \n",
       "4         79084.10       0  "
      ]
     },
     "execution_count": 6,
     "metadata": {},
     "output_type": "execute_result"
    }
   ],
   "source": [
    "frame.head()"
   ]
  },
  {
   "cell_type": "code",
   "execution_count": 7,
   "metadata": {},
   "outputs": [
    {
     "data": {
      "text/html": [
       "<div>\n",
       "<style scoped>\n",
       "    .dataframe tbody tr th:only-of-type {\n",
       "        vertical-align: middle;\n",
       "    }\n",
       "\n",
       "    .dataframe tbody tr th {\n",
       "        vertical-align: top;\n",
       "    }\n",
       "\n",
       "    .dataframe thead th {\n",
       "        text-align: right;\n",
       "    }\n",
       "</style>\n",
       "<table border=\"1\" class=\"dataframe\">\n",
       "  <thead>\n",
       "    <tr style=\"text-align: right;\">\n",
       "      <th></th>\n",
       "      <th>RowNumber</th>\n",
       "      <th>CustomerId</th>\n",
       "      <th>CreditScore</th>\n",
       "      <th>Age</th>\n",
       "      <th>Tenure</th>\n",
       "      <th>Balance</th>\n",
       "      <th>NumOfProducts</th>\n",
       "      <th>HasCrCard</th>\n",
       "      <th>IsActiveMember</th>\n",
       "      <th>EstimatedSalary</th>\n",
       "      <th>Exited</th>\n",
       "    </tr>\n",
       "  </thead>\n",
       "  <tbody>\n",
       "    <tr>\n",
       "      <td>count</td>\n",
       "      <td>10000.00000</td>\n",
       "      <td>1.000000e+04</td>\n",
       "      <td>10000.000000</td>\n",
       "      <td>10000.000000</td>\n",
       "      <td>9091.000000</td>\n",
       "      <td>10000.000000</td>\n",
       "      <td>10000.000000</td>\n",
       "      <td>10000.00000</td>\n",
       "      <td>10000.000000</td>\n",
       "      <td>10000.000000</td>\n",
       "      <td>10000.000000</td>\n",
       "    </tr>\n",
       "    <tr>\n",
       "      <td>mean</td>\n",
       "      <td>5000.50000</td>\n",
       "      <td>1.569094e+07</td>\n",
       "      <td>650.528800</td>\n",
       "      <td>38.921800</td>\n",
       "      <td>4.997690</td>\n",
       "      <td>76485.889288</td>\n",
       "      <td>1.530200</td>\n",
       "      <td>0.70550</td>\n",
       "      <td>0.515100</td>\n",
       "      <td>100090.239881</td>\n",
       "      <td>0.203700</td>\n",
       "    </tr>\n",
       "    <tr>\n",
       "      <td>std</td>\n",
       "      <td>2886.89568</td>\n",
       "      <td>7.193619e+04</td>\n",
       "      <td>96.653299</td>\n",
       "      <td>10.487806</td>\n",
       "      <td>2.894723</td>\n",
       "      <td>62397.405202</td>\n",
       "      <td>0.581654</td>\n",
       "      <td>0.45584</td>\n",
       "      <td>0.499797</td>\n",
       "      <td>57510.492818</td>\n",
       "      <td>0.402769</td>\n",
       "    </tr>\n",
       "    <tr>\n",
       "      <td>min</td>\n",
       "      <td>1.00000</td>\n",
       "      <td>1.556570e+07</td>\n",
       "      <td>350.000000</td>\n",
       "      <td>18.000000</td>\n",
       "      <td>0.000000</td>\n",
       "      <td>0.000000</td>\n",
       "      <td>1.000000</td>\n",
       "      <td>0.00000</td>\n",
       "      <td>0.000000</td>\n",
       "      <td>11.580000</td>\n",
       "      <td>0.000000</td>\n",
       "    </tr>\n",
       "    <tr>\n",
       "      <td>25%</td>\n",
       "      <td>2500.75000</td>\n",
       "      <td>1.562853e+07</td>\n",
       "      <td>584.000000</td>\n",
       "      <td>32.000000</td>\n",
       "      <td>2.000000</td>\n",
       "      <td>0.000000</td>\n",
       "      <td>1.000000</td>\n",
       "      <td>0.00000</td>\n",
       "      <td>0.000000</td>\n",
       "      <td>51002.110000</td>\n",
       "      <td>0.000000</td>\n",
       "    </tr>\n",
       "    <tr>\n",
       "      <td>50%</td>\n",
       "      <td>5000.50000</td>\n",
       "      <td>1.569074e+07</td>\n",
       "      <td>652.000000</td>\n",
       "      <td>37.000000</td>\n",
       "      <td>5.000000</td>\n",
       "      <td>97198.540000</td>\n",
       "      <td>1.000000</td>\n",
       "      <td>1.00000</td>\n",
       "      <td>1.000000</td>\n",
       "      <td>100193.915000</td>\n",
       "      <td>0.000000</td>\n",
       "    </tr>\n",
       "    <tr>\n",
       "      <td>75%</td>\n",
       "      <td>7500.25000</td>\n",
       "      <td>1.575323e+07</td>\n",
       "      <td>718.000000</td>\n",
       "      <td>44.000000</td>\n",
       "      <td>7.000000</td>\n",
       "      <td>127644.240000</td>\n",
       "      <td>2.000000</td>\n",
       "      <td>1.00000</td>\n",
       "      <td>1.000000</td>\n",
       "      <td>149388.247500</td>\n",
       "      <td>0.000000</td>\n",
       "    </tr>\n",
       "    <tr>\n",
       "      <td>max</td>\n",
       "      <td>10000.00000</td>\n",
       "      <td>1.581569e+07</td>\n",
       "      <td>850.000000</td>\n",
       "      <td>92.000000</td>\n",
       "      <td>10.000000</td>\n",
       "      <td>250898.090000</td>\n",
       "      <td>4.000000</td>\n",
       "      <td>1.00000</td>\n",
       "      <td>1.000000</td>\n",
       "      <td>199992.480000</td>\n",
       "      <td>1.000000</td>\n",
       "    </tr>\n",
       "  </tbody>\n",
       "</table>\n",
       "</div>"
      ],
      "text/plain": [
       "         RowNumber    CustomerId   CreditScore           Age       Tenure  \\\n",
       "count  10000.00000  1.000000e+04  10000.000000  10000.000000  9091.000000   \n",
       "mean    5000.50000  1.569094e+07    650.528800     38.921800     4.997690   \n",
       "std     2886.89568  7.193619e+04     96.653299     10.487806     2.894723   \n",
       "min        1.00000  1.556570e+07    350.000000     18.000000     0.000000   \n",
       "25%     2500.75000  1.562853e+07    584.000000     32.000000     2.000000   \n",
       "50%     5000.50000  1.569074e+07    652.000000     37.000000     5.000000   \n",
       "75%     7500.25000  1.575323e+07    718.000000     44.000000     7.000000   \n",
       "max    10000.00000  1.581569e+07    850.000000     92.000000    10.000000   \n",
       "\n",
       "             Balance  NumOfProducts    HasCrCard  IsActiveMember  \\\n",
       "count   10000.000000   10000.000000  10000.00000    10000.000000   \n",
       "mean    76485.889288       1.530200      0.70550        0.515100   \n",
       "std     62397.405202       0.581654      0.45584        0.499797   \n",
       "min         0.000000       1.000000      0.00000        0.000000   \n",
       "25%         0.000000       1.000000      0.00000        0.000000   \n",
       "50%     97198.540000       1.000000      1.00000        1.000000   \n",
       "75%    127644.240000       2.000000      1.00000        1.000000   \n",
       "max    250898.090000       4.000000      1.00000        1.000000   \n",
       "\n",
       "       EstimatedSalary        Exited  \n",
       "count     10000.000000  10000.000000  \n",
       "mean     100090.239881      0.203700  \n",
       "std       57510.492818      0.402769  \n",
       "min          11.580000      0.000000  \n",
       "25%       51002.110000      0.000000  \n",
       "50%      100193.915000      0.000000  \n",
       "75%      149388.247500      0.000000  \n",
       "max      199992.480000      1.000000  "
      ]
     },
     "execution_count": 7,
     "metadata": {},
     "output_type": "execute_result"
    }
   ],
   "source": [
    "frame.describe()"
   ]
  },
  {
   "cell_type": "markdown",
   "metadata": {},
   "source": [
    "Четверть клиентов имеет нулевой баланс, тоже самое касается признака активности. Возможно здесь есть связь."
   ]
  },
  {
   "cell_type": "code",
   "execution_count": 8,
   "metadata": {},
   "outputs": [
    {
     "data": {
      "text/plain": [
       "'Количесвто дубликатов:'"
      ]
     },
     "metadata": {},
     "output_type": "display_data"
    },
    {
     "data": {
      "text/plain": [
       "0"
      ]
     },
     "metadata": {},
     "output_type": "display_data"
    }
   ],
   "source": [
    "display(\"Количесвто дубликатов:\",frame.duplicated().sum())"
   ]
  },
  {
   "cell_type": "markdown",
   "metadata": {},
   "source": [
    "<hr>\n",
    "Фамилия, айди и номер строки - лишние столбцы, удалим их."
   ]
  },
  {
   "cell_type": "code",
   "execution_count": 9,
   "metadata": {},
   "outputs": [],
   "source": [
    "frame = frame.drop(['Surname', 'RowNumber', 'CustomerId'], axis=1)"
   ]
  },
  {
   "cell_type": "markdown",
   "metadata": {},
   "source": [
    "Переименуем столбцы и приведем к одному регистру."
   ]
  },
  {
   "cell_type": "code",
   "execution_count": 10,
   "metadata": {},
   "outputs": [
    {
     "data": {
      "text/plain": [
       "Index(['creditscore', 'geography', 'gender', 'age', 'tenure', 'balance',\n",
       "       'numofproducts', 'hascrcard', 'isactivemember', 'estimatedsalary',\n",
       "       'exited'],\n",
       "      dtype='object')"
      ]
     },
     "execution_count": 10,
     "metadata": {},
     "output_type": "execute_result"
    }
   ],
   "source": [
    "frame.columns = frame.columns.str.lower()\n",
    "frame.columns"
   ]
  },
  {
   "cell_type": "code",
   "execution_count": 11,
   "metadata": {},
   "outputs": [],
   "source": [
    "frame.rename({'creditscore': 'credit_score',\n",
    "             'geography': 'country',\n",
    "             'isactivemember': 'is_active',\n",
    "             'numofproducts': 'num_of_products',\n",
    "             'hascrcard': 'has_cr_card',\n",
    "             'estimatedsalary': 'salary',\n",
    "             'exited': 'churn'}, axis=1, inplace=True)\n"
   ]
  },
  {
   "cell_type": "markdown",
   "metadata": {},
   "source": [
    "**Обработка пропусков**\n",
    "\n",
    "В столбце `tenure` есть пропуски. Поищем аномалии среди этих клиентов."
   ]
  },
  {
   "cell_type": "code",
   "execution_count": 12,
   "metadata": {},
   "outputs": [
    {
     "data": {
      "text/html": [
       "<div>\n",
       "<style scoped>\n",
       "    .dataframe tbody tr th:only-of-type {\n",
       "        vertical-align: middle;\n",
       "    }\n",
       "\n",
       "    .dataframe tbody tr th {\n",
       "        vertical-align: top;\n",
       "    }\n",
       "\n",
       "    .dataframe thead th {\n",
       "        text-align: right;\n",
       "    }\n",
       "</style>\n",
       "<table border=\"1\" class=\"dataframe\">\n",
       "  <thead>\n",
       "    <tr style=\"text-align: right;\">\n",
       "      <th></th>\n",
       "      <th>credit_score</th>\n",
       "      <th>age</th>\n",
       "      <th>tenure</th>\n",
       "      <th>balance</th>\n",
       "      <th>num_of_products</th>\n",
       "      <th>has_cr_card</th>\n",
       "      <th>is_active</th>\n",
       "      <th>salary</th>\n",
       "      <th>churn</th>\n",
       "    </tr>\n",
       "  </thead>\n",
       "  <tbody>\n",
       "    <tr>\n",
       "      <td>count</td>\n",
       "      <td>909.000000</td>\n",
       "      <td>909.000000</td>\n",
       "      <td>0.0</td>\n",
       "      <td>909.000000</td>\n",
       "      <td>909.000000</td>\n",
       "      <td>909.000000</td>\n",
       "      <td>909.000000</td>\n",
       "      <td>909.000000</td>\n",
       "      <td>909.000000</td>\n",
       "    </tr>\n",
       "    <tr>\n",
       "      <td>mean</td>\n",
       "      <td>648.451045</td>\n",
       "      <td>38.647965</td>\n",
       "      <td>NaN</td>\n",
       "      <td>76117.341474</td>\n",
       "      <td>1.530253</td>\n",
       "      <td>0.710671</td>\n",
       "      <td>0.510451</td>\n",
       "      <td>99180.389373</td>\n",
       "      <td>0.201320</td>\n",
       "    </tr>\n",
       "    <tr>\n",
       "      <td>std</td>\n",
       "      <td>99.079381</td>\n",
       "      <td>9.785438</td>\n",
       "      <td>NaN</td>\n",
       "      <td>63105.690715</td>\n",
       "      <td>0.588452</td>\n",
       "      <td>0.453701</td>\n",
       "      <td>0.500166</td>\n",
       "      <td>56378.063765</td>\n",
       "      <td>0.401207</td>\n",
       "    </tr>\n",
       "    <tr>\n",
       "      <td>min</td>\n",
       "      <td>359.000000</td>\n",
       "      <td>18.000000</td>\n",
       "      <td>NaN</td>\n",
       "      <td>0.000000</td>\n",
       "      <td>1.000000</td>\n",
       "      <td>0.000000</td>\n",
       "      <td>0.000000</td>\n",
       "      <td>106.670000</td>\n",
       "      <td>0.000000</td>\n",
       "    </tr>\n",
       "    <tr>\n",
       "      <td>25%</td>\n",
       "      <td>580.000000</td>\n",
       "      <td>32.000000</td>\n",
       "      <td>NaN</td>\n",
       "      <td>0.000000</td>\n",
       "      <td>1.000000</td>\n",
       "      <td>0.000000</td>\n",
       "      <td>0.000000</td>\n",
       "      <td>49872.330000</td>\n",
       "      <td>0.000000</td>\n",
       "    </tr>\n",
       "    <tr>\n",
       "      <td>50%</td>\n",
       "      <td>647.000000</td>\n",
       "      <td>37.000000</td>\n",
       "      <td>NaN</td>\n",
       "      <td>96674.550000</td>\n",
       "      <td>1.000000</td>\n",
       "      <td>1.000000</td>\n",
       "      <td>1.000000</td>\n",
       "      <td>99444.020000</td>\n",
       "      <td>0.000000</td>\n",
       "    </tr>\n",
       "    <tr>\n",
       "      <td>75%</td>\n",
       "      <td>718.000000</td>\n",
       "      <td>43.000000</td>\n",
       "      <td>NaN</td>\n",
       "      <td>128554.980000</td>\n",
       "      <td>2.000000</td>\n",
       "      <td>1.000000</td>\n",
       "      <td>1.000000</td>\n",
       "      <td>145759.700000</td>\n",
       "      <td>0.000000</td>\n",
       "    </tr>\n",
       "    <tr>\n",
       "      <td>max</td>\n",
       "      <td>850.000000</td>\n",
       "      <td>92.000000</td>\n",
       "      <td>NaN</td>\n",
       "      <td>206663.750000</td>\n",
       "      <td>4.000000</td>\n",
       "      <td>1.000000</td>\n",
       "      <td>1.000000</td>\n",
       "      <td>199390.450000</td>\n",
       "      <td>1.000000</td>\n",
       "    </tr>\n",
       "  </tbody>\n",
       "</table>\n",
       "</div>"
      ],
      "text/plain": [
       "       credit_score         age  tenure        balance  num_of_products  \\\n",
       "count    909.000000  909.000000     0.0     909.000000       909.000000   \n",
       "mean     648.451045   38.647965     NaN   76117.341474         1.530253   \n",
       "std       99.079381    9.785438     NaN   63105.690715         0.588452   \n",
       "min      359.000000   18.000000     NaN       0.000000         1.000000   \n",
       "25%      580.000000   32.000000     NaN       0.000000         1.000000   \n",
       "50%      647.000000   37.000000     NaN   96674.550000         1.000000   \n",
       "75%      718.000000   43.000000     NaN  128554.980000         2.000000   \n",
       "max      850.000000   92.000000     NaN  206663.750000         4.000000   \n",
       "\n",
       "       has_cr_card   is_active         salary       churn  \n",
       "count   909.000000  909.000000     909.000000  909.000000  \n",
       "mean      0.710671    0.510451   99180.389373    0.201320  \n",
       "std       0.453701    0.500166   56378.063765    0.401207  \n",
       "min       0.000000    0.000000     106.670000    0.000000  \n",
       "25%       0.000000    0.000000   49872.330000    0.000000  \n",
       "50%       1.000000    1.000000   99444.020000    0.000000  \n",
       "75%       1.000000    1.000000  145759.700000    0.000000  \n",
       "max       1.000000    1.000000  199390.450000    1.000000  "
      ]
     },
     "execution_count": 12,
     "metadata": {},
     "output_type": "execute_result"
    }
   ],
   "source": [
    "frame.query('tenure.isna()').describe()"
   ]
  },
  {
   "cell_type": "markdown",
   "metadata": {},
   "source": [
    "Очевидных аномалий я не нашёл, поделим выборку на пять возрастных групп и заполним медианным значением внутри каждой из групп все пропуски."
   ]
  },
  {
   "cell_type": "code",
   "execution_count": 13,
   "metadata": {},
   "outputs": [
    {
     "data": {
      "text/plain": [
       "(17.999, 31.0]    2372\n",
       "(31.0, 35.0]      1781\n",
       "(35.0, 40.0]      2266\n",
       "(40.0, 46.0]      1696\n",
       "(46.0, 92.0]      1885\n",
       "Name: group_age, dtype: int64"
      ]
     },
     "metadata": {},
     "output_type": "display_data"
    }
   ],
   "source": [
    "frame['group_age'] = pd.qcut(frame['age'], 5)\n",
    "display(frame['group_age'].value_counts().sort_index())"
   ]
  },
  {
   "cell_type": "code",
   "execution_count": 14,
   "metadata": {},
   "outputs": [
    {
     "name": "stdout",
     "output_type": "stream",
     "text": [
      "<class 'pandas.core.frame.DataFrame'>\n",
      "Int64Index: 9091 entries, 0 to 9998\n",
      "Data columns (total 12 columns):\n",
      "credit_score       9091 non-null int64\n",
      "country            9091 non-null object\n",
      "gender             9091 non-null object\n",
      "age                9091 non-null int64\n",
      "tenure             9091 non-null float64\n",
      "balance            9091 non-null float64\n",
      "num_of_products    9091 non-null int64\n",
      "has_cr_card        9091 non-null int64\n",
      "is_active          9091 non-null int64\n",
      "salary             9091 non-null float64\n",
      "churn              9091 non-null int64\n",
      "group_age          9091 non-null category\n",
      "dtypes: category(1), float64(3), int64(6), object(2)\n",
      "memory usage: 861.4+ KB\n"
     ]
    }
   ],
   "source": [
    "frame_del_drop = frame.copy()\n",
    "frame_del_drop = frame_del_drop.dropna()\n",
    "frame_del_drop.info()"
   ]
  },
  {
   "cell_type": "code",
   "execution_count": 15,
   "metadata": {},
   "outputs": [],
   "source": [
    "frame['tenure'] = frame.groupby(\n",
    "        ['country',\n",
    "         'gender',\n",
    "         'group_age']\n",
    ")['tenure'].transform(lambda x: x.fillna(x.median()))"
   ]
  },
  {
   "cell_type": "code",
   "execution_count": 16,
   "metadata": {},
   "outputs": [
    {
     "name": "stdout",
     "output_type": "stream",
     "text": [
      "<class 'pandas.core.frame.DataFrame'>\n",
      "RangeIndex: 10000 entries, 0 to 9999\n",
      "Data columns (total 11 columns):\n",
      "credit_score       10000 non-null int64\n",
      "country            10000 non-null object\n",
      "gender             10000 non-null object\n",
      "age                10000 non-null int64\n",
      "tenure             10000 non-null int64\n",
      "balance            10000 non-null float64\n",
      "num_of_products    10000 non-null int64\n",
      "has_cr_card        10000 non-null int64\n",
      "is_active          10000 non-null int64\n",
      "salary             10000 non-null float64\n",
      "churn              10000 non-null int64\n",
      "dtypes: float64(2), int64(7), object(2)\n",
      "memory usage: 859.5+ KB\n"
     ]
    }
   ],
   "source": [
    "frame['tenure'] = frame['tenure'].astype('int')\n",
    "frame = frame.drop('group_age', axis=1)\n",
    "frame.info()"
   ]
  },
  {
   "cell_type": "markdown",
   "metadata": {},
   "source": [
    "Поправили типы данных, удалили ненужный стобец с возрастной группой, проверили названия, пропуски - всё ок, двигаемся дальше.\n",
    "<hr>\n",
    "Построим графики распределения по кредитному скорингу, возрасту, остатку на счетах, заработной плате и изучим зависимости."
   ]
  },
  {
   "cell_type": "code",
   "execution_count": 17,
   "metadata": {},
   "outputs": [
    {
     "data": {
      "image/png": "[encoded data removed]",
      "text/plain": [
       "<Figure size 720x720 with 4 Axes>"
      ]
     },
     "metadata": {
      "needs_background": "light"
     },
     "output_type": "display_data"
    }
   ],
   "source": [
    "fig, axes = plt.subplots(2, 2, figsize=(10, 10))\n",
    "axes[0, 0].hist(frame['credit_score'], bins=32)\n",
    "axes[0, 0].set_title(\"credit_score\")\n",
    "axes[0, 1].hist(frame['age'], bins=24)\n",
    "axes[0, 1].set_title(\"age\")\n",
    "axes[1, 0].hist(frame['balance'], bins=30)\n",
    "axes[1, 0].set_title(\"balance\")\n",
    "axes[1, 1].hist(frame['salary'], bins=30)\n",
    "axes[1, 1].set_title(\"salary\");"
   ]
  },
  {
   "cell_type": "markdown",
   "metadata": {},
   "source": [
    "Распределение таких характеристик близки к нормальному. При этом мы можем видеть, что распределение зарплат довольно однородное. Это говорит о том, что, вероятно, выборка стратифицирована.\n",
    "\n",
    "Есть подозрительный выброс в районе нуля на графике балансов. Удалять мы его не будем, нет причин полагать, что это ошибка, скорее всего этот критерий будет очень важен для модели. Интересно, что нет клиентов с нулевым балансом из Германии. Во франции таких вдвое больше, но это обсуловлено тем, что и самих клиентов из Франции практически вдвое больше. "
   ]
  },
  {
   "cell_type": "code",
   "execution_count": 18,
   "metadata": {},
   "outputs": [
    {
     "data": {
      "text/plain": [
       "country  is_active\n",
       "France   0            1158\n",
       "         1            1260\n",
       "Spain    0             586\n",
       "         1             613\n",
       "Name: churn, dtype: int64"
      ]
     },
     "execution_count": 18,
     "metadata": {},
     "output_type": "execute_result"
    }
   ],
   "source": [
    "frame[frame['balance'] == 0].groupby(['country', 'is_active'])['churn'].agg('count')"
   ]
  },
  {
   "cell_type": "code",
   "execution_count": 19,
   "metadata": {},
   "outputs": [
    {
     "data": {
      "text/plain": [
       "<matplotlib.axes._subplots.AxesSubplot at 0x7fa3c82c0150>"
      ]
     },
     "execution_count": 19,
     "metadata": {},
     "output_type": "execute_result"
    },
    {
     "data": {
      "image/png": "[encoded data removed]",
      "text/plain": [
       "<Figure size 432x288 with 1 Axes>"
      ]
     },
     "metadata": {
      "needs_background": "light"
     },
     "output_type": "display_data"
    }
   ],
   "source": [
    "(frame[frame['churn'] == 1].groupby(['country'])['churn'].count()).plot(kind='bar', rot=45)"
   ]
  },
  {
   "cell_type": "markdown",
   "metadata": {},
   "source": [
    "Больше всего отток клиентов из Франции и Германии, Испания имеет вдвое меньший показатель."
   ]
  },
  {
   "cell_type": "code",
   "execution_count": 20,
   "metadata": {},
   "outputs": [
    {
     "name": "stdout",
     "output_type": "stream",
     "text": [
      "Defaulting to user installation because normal site-packages is not writeable\n",
      "Requirement already up-to-date: seaborn in /home/jovyan/.local/lib/python3.7/site-packages (0.11.2)\n",
      "Requirement already satisfied, skipping upgrade: numpy>=1.15 in /opt/conda/lib/python3.7/site-packages (from seaborn) (1.19.5)\n",
      "Requirement already satisfied, skipping upgrade: matplotlib>=2.2 in /opt/conda/lib/python3.7/site-packages (from seaborn) (3.1.0)\n",
      "Requirement already satisfied, skipping upgrade: scipy>=1.0 in /opt/conda/lib/python3.7/site-packages (from seaborn) (1.4.1)\n",
      "Requirement already satisfied, skipping upgrade: pandas>=0.23 in /opt/conda/lib/python3.7/site-packages (from seaborn) (0.25.1)\n",
      "Requirement already satisfied, skipping upgrade: python-dateutil>=2.1 in /opt/conda/lib/python3.7/site-packages (from matplotlib>=2.2->seaborn) (2.8.1)\n",
      "Requirement already satisfied, skipping upgrade: pyparsing!=2.0.4,!=2.1.2,!=2.1.6,>=2.0.1 in /opt/conda/lib/python3.7/site-packages (from matplotlib>=2.2->seaborn) (2.4.7)\n",
      "Requirement already satisfied, skipping upgrade: kiwisolver>=1.0.1 in /opt/conda/lib/python3.7/site-packages (from matplotlib>=2.2->seaborn) (1.3.1)\n",
      "Requirement already satisfied, skipping upgrade: cycler>=0.10 in /opt/conda/lib/python3.7/site-packages (from matplotlib>=2.2->seaborn) (0.10.0)\n",
      "Requirement already satisfied, skipping upgrade: pytz>=2017.2 in /opt/conda/lib/python3.7/site-packages (from pandas>=0.23->seaborn) (2021.1)\n",
      "Requirement already satisfied, skipping upgrade: six>=1.5 in /opt/conda/lib/python3.7/site-packages (from python-dateutil>=2.1->matplotlib>=2.2->seaborn) (1.15.0)\n",
      "Note: you may need to restart the kernel to use updated packages.\n"
     ]
    }
   ],
   "source": [
    "pip install -U seaborn"
   ]
  },
  {
   "cell_type": "code",
   "execution_count": 21,
   "metadata": {
    "scrolled": true
   },
   "outputs": [
    {
     "data": {
      "text/plain": [
       "Text(0.5, 1.0, 'Баланс на момент оттока')"
      ]
     },
     "execution_count": 21,
     "metadata": {},
     "output_type": "execute_result"
    },
    {
     "data": {
      "image/png": "[encoded data removed]",
      "text/plain": [
       "<Figure size 432x288 with 1 Axes>"
      ]
     },
     "metadata": {
      "needs_background": "light"
     },
     "output_type": "display_data"
    }
   ],
   "source": [
    "sns.histplot(data=frame[frame['churn'] == 1], x='balance', kde=True, hue='country')\n",
    "\n",
    "plt.title('Баланс на момент оттока')"
   ]
  },
  {
   "cell_type": "markdown",
   "metadata": {},
   "source": [
    "**Выводы**\n",
    "\n",
    "Обработали имеющиеся данные: поправили названия, убрали лишние столбцы, заполнили пропуски медианным значением по возрастной группе.\n",
    "\n",
    "Выборка состоит:\n",
    "- 50% клиенты из Фарнции\n",
    "- 25% клиенты из Германии\n",
    "- 25% клиенты из Испании\n",
    "\n",
    "Интересно, что среди оттока немцев нет клиентов с нулевым балансом, а значительная часть клиентов в оттоке как раз имеет нулевой баланс. Меньше всего банк покинуло клиентов из Испании. "
   ]
  },
  {
   "cell_type": "markdown",
   "metadata": {},
   "source": [
    "Обработаем признаки со страной и полом с помощью дамми-кодирования."
   ]
  },
  {
   "cell_type": "code",
   "execution_count": 20,
   "metadata": {},
   "outputs": [],
   "source": [
    "frame = pd.get_dummies(frame, drop_first=True)"
   ]
  },
  {
   "cell_type": "markdown",
   "metadata": {},
   "source": [
    "Также необходимо привести некоторые признаки к единой размрности для более корректной работы моделей.\n",
    "\n",
    "- credit_score\n",
    "- age\n",
    "- tenure\n",
    "- balance\n",
    "- num_of_products\n",
    "- salary"
   ]
  },
  {
   "cell_type": "markdown",
   "metadata": {},
   "source": [
    "## Исследование задачи"
   ]
  },
  {
   "cell_type": "code",
   "execution_count": 21,
   "metadata": {},
   "outputs": [
    {
     "data": {
      "text/plain": [
       "0    0.7963\n",
       "1    0.2037\n",
       "Name: churn, dtype: float64"
      ]
     },
     "execution_count": 21,
     "metadata": {},
     "output_type": "execute_result"
    }
   ],
   "source": [
    "frame.churn.value_counts(normalize=True)"
   ]
  },
  {
   "cell_type": "markdown",
   "metadata": {},
   "source": [
    "Есть дисбаланс класса, который нужно предсказать, пропорция 80 на 20.\n",
    "\n",
    "Подготовим данные для обучения на простейшей модели и сравним её со случайной, пока без учёта дисбаланса.\n",
    "\n",
    "*Создадим обучающую, тестовую и валидационные выборки в соотношении 3:1:1*"
   ]
  },
  {
   "cell_type": "code",
   "execution_count": 22,
   "metadata": {},
   "outputs": [],
   "source": [
    "def post_normalize(frame):\n",
    "    to_norm = ['credit_score', 'age', 'tenure', 'balance', 'num_of_products', 'salary']\n",
    "    scaler = MinMaxScaler()\n",
    "    scaler.fit(frame[to_norm])\n",
    "    frame.loc[:, to_norm] = scaler.transform(frame[to_norm])\n",
    "    \n",
    "    return frame"
   ]
  },
  {
   "cell_type": "code",
   "execution_count": 23,
   "metadata": {},
   "outputs": [
    {
     "name": "stdout",
     "output_type": "stream",
     "text": [
      "Размер тестовой выборки = (2000, 11)\n",
      "Размер валидационной выборки = (2000, 11)\n",
      "Размер обучающей выборки = (6000, 11)\n"
     ]
    }
   ],
   "source": [
    "pd.options.mode.chained_assignment = None\n",
    "\n",
    "target = frame['churn']\n",
    "features = frame.drop('churn', axis=1)\n",
    "\n",
    "def get_samples(target, features, size):\n",
    "    '''\n",
    "    Принимает на вход: целевой признак, отобранные фичи, доля тестовых данных.\n",
    "    \n",
    "    Возвращает: разделённые выборки в указанной пропорции.\n",
    "    '''\n",
    "    features_train, features_valid, target_train, target_valid = train_test_split(\n",
    "        features, target, test_size=size, random_state=42, stratify=target\n",
    "    )\n",
    "        \n",
    "    return post_normalize(features_train), post_normalize(features_valid), target_train, target_valid\n",
    "    \n",
    "features_train, features_valid, target_train, target_valid = get_samples(target, features, 0.4)\n",
    "features_test, features_valid, target_test, target_valid = get_samples(target_valid, features_valid, 0.5)\n",
    "\n",
    "print(f'Размер тестовой выборки = {features_test.shape}')\n",
    "print(f'Размер валидационной выборки = {features_valid.shape}')\n",
    "print(f'Размер обучающей выборки = {features_train.shape}')"
   ]
  },
  {
   "cell_type": "markdown",
   "metadata": {},
   "source": [
    "Для удобства сравнения моделей создадим фрейм:\n",
    "- 'model' - имя модели,\n",
    "- f1_valid'- f1 на валидационной выборке,\n",
    "- 'roc_auc' - ROC-AUC на выборке,\n",
    "- 'balanced' - сбалансирован ли класс."
   ]
  },
  {
   "cell_type": "code",
   "execution_count": 24,
   "metadata": {},
   "outputs": [],
   "source": [
    "results = pd.DataFrame(columns=[\n",
    "                              'model',\n",
    "                              'f1_valid',\n",
    "                              'roc_auc',\n",
    "                              'balanced'])"
   ]
  },
  {
   "cell_type": "code",
   "execution_count": 25,
   "metadata": {},
   "outputs": [],
   "source": [
    "def get_actual_auc(model, target_valid, features_valid):\n",
    "    '''\n",
    "    Принимает на вход: обученную модель, валидационную выборку.\n",
    "    \n",
    "    Возвращает: \n",
    "    - площадь, ограниченную рабочей характеристикой приёмника,\n",
    "    - процент верно предсказанных среди положительных значений,\n",
    "    - процент неверно предсказанных среди отрицательных значений,\n",
    "    - пороговые значения.\n",
    "    '''\n",
    "    probabilities = model.predict_proba(features_valid)\n",
    "\n",
    "    fpr, tpr, thresholds = roc_curve(target_valid, probabilities[:,1])\n",
    "    auc_roc = roc_auc_score(target_valid, probabilities[:,1])\n",
    "    \n",
    "    return auc_roc, fpr, tpr, thresholds\n",
    "\n",
    "def show_roc(fpr, tpr, auc_roc):\n",
    "    plt.plot(fpr, tpr, color='darkorange',\n",
    "             label='ROC кривая (area = %0.2f)' % auc_roc)\n",
    "    plt.plot([0, 1], [0, 1], color='navy', linestyle='--')\n",
    "    plt.xlim([-0.1, 1.1])\n",
    "    plt.ylim([-0.1, 1.1])\n",
    "    plt.xlabel('False Positive Rate')\n",
    "    plt.ylabel('True Positive Rate')\n",
    "    plt.title('ROC-кривая')\n",
    "    plt.legend(loc=\"lower right\")\n",
    "    plt.grid(color = 'black')\n",
    "    plt.show()"
   ]
  },
  {
   "cell_type": "markdown",
   "metadata": {},
   "source": [
    "**Модель случайного леса**"
   ]
  },
  {
   "cell_type": "code",
   "execution_count": 26,
   "metadata": {},
   "outputs": [],
   "source": [
    "def get_best_random_forest(features_train, target_train, features_valid, target_valid, class_weight='balanced'):\n",
    "    '''\n",
    "    Принимает на вход: обучающую и валидационную выборки, режим корректировки веса классов.\n",
    "    \n",
    "    Возвращает: \n",
    "    - площадь, ограниченную рабочей характеристикой приёмника,\n",
    "    - процент верно предсказанных среди положительных значений,\n",
    "    - процент неверно предсказанных среди отрицательных значений,\n",
    "    - пороговые значения.\n",
    "    '''\n",
    "    f1_dict = {a : [] for a in range(100, 136, 1)}\n",
    "    auc_dict = {a : [] for a in range(100, 136, 1)}\n",
    "    best_f1 = 0\n",
    "\n",
    "    for n_est in f1_dict:\n",
    "        for depth in range(15, 20):\n",
    "            model = RandomForestClassifier(random_state=42, max_depth=depth, n_estimators=n_est, class_weight=class_weight)\n",
    "            model.fit(features_train, target_train)\n",
    "            predictions = model.predict(features_valid)\n",
    "            actual_f1 = f1_score(target_valid, predictions)\n",
    "            \n",
    "            auc_roc, fpr, tpr, thresholds = get_actual_auc(model, target_valid, features_valid)\n",
    "            auc_dict[n_est].append(auc_roc)\n",
    "            \n",
    "            if actual_f1 > best_f1:\n",
    "                best_f1 = actual_f1\n",
    "                best_model = model\n",
    "\n",
    "            f1_dict[n_est].append(actual_f1)\n",
    "    \n",
    "    print(f'Лучшая точность на валидационной выборке: {best_f1:.4f}')\n",
    "    params = best_model.get_params()\n",
    "    print(f\"Параметры лучшей модели: max_depth = {params['max_depth']}, n_estimators = {params['n_estimators']}\")\n",
    "    \n",
    "    return best_model"
   ]
  },
  {
   "cell_type": "code",
   "execution_count": 27,
   "metadata": {},
   "outputs": [
    {
     "name": "stdout",
     "output_type": "stream",
     "text": [
      "Лучшая точность на валидационной выборке: 0.5941\n",
      "Параметры лучшей модели: max_depth = 15, n_estimators = 120\n"
     ]
    }
   ],
   "source": [
    "best_model = get_best_random_forest(features_train, target_train, features_valid, target_valid)"
   ]
  },
  {
   "cell_type": "code",
   "execution_count": 28,
   "metadata": {},
   "outputs": [
    {
     "data": {
      "image/png": "[encoded data removed]",
      "text/plain": [
       "<Figure size 432x288 with 1 Axes>"
      ]
     },
     "metadata": {
      "needs_background": "light"
     },
     "output_type": "display_data"
    }
   ],
   "source": [
    "auc_roc, fpr, tpr, thresholds = get_actual_auc(best_model, target_valid, features_valid)\n",
    "show_roc(fpr, tpr, auc_roc)"
   ]
  },
  {
   "cell_type": "code",
   "execution_count": 29,
   "metadata": {},
   "outputs": [],
   "source": [
    "results = results.append(\n",
    "                         {'model':'RandomForestClassifier',\n",
    "                          'f1_valid':0.5941,\n",
    "                          'roc_auc':0.85,\n",
    "                          'balanced':False},ignore_index=True\n",
    ")"
   ]
  },
  {
   "cell_type": "markdown",
   "metadata": {},
   "source": [
    "**Логистическая регрессия**"
   ]
  },
  {
   "cell_type": "code",
   "execution_count": 30,
   "metadata": {},
   "outputs": [
    {
     "name": "stdout",
     "output_type": "stream",
     "text": [
      "Лучшая точность на валидационной выборке: 0.3105\n"
     ]
    },
    {
     "data": {
      "image/png": "[encoded data removed]",
      "text/plain": [
       "<Figure size 432x288 with 1 Axes>"
      ]
     },
     "metadata": {
      "needs_background": "light"
     },
     "output_type": "display_data"
    }
   ],
   "source": [
    "def get_logistic_regression(features_train, target_train, features_valid, target_valid):\n",
    "    \n",
    "    best_model = LogisticRegression(random_state=42, solver='liblinear', max_iter=200)\n",
    "    \n",
    "    best_model.fit(features_train, target_train)\n",
    "    predictions = best_model.predict(features_valid)\n",
    "    \n",
    "    print(f'Лучшая точность на валидационной выборке: {f1_score(target_valid, predictions):.4f}')\n",
    "    return best_model\n",
    "    \n",
    "best_logist_model = get_logistic_regression(features_train, target_train, features_valid, target_valid)\n",
    "\n",
    "auc_roc, fpr, tpr, thresholds = get_actual_auc(best_logist_model, target_valid, features_valid)\n",
    "show_roc(fpr, tpr, auc_roc)"
   ]
  },
  {
   "cell_type": "code",
   "execution_count": 31,
   "metadata": {},
   "outputs": [],
   "source": [
    "results = results.append(\n",
    "                         {'model':'LogisticRegression',\n",
    "                          'f1_valid':0.3105,\n",
    "                          'roc_auc':0.77,\n",
    "                          'balanced':False},ignore_index=True\n",
    ")"
   ]
  },
  {
   "cell_type": "markdown",
   "metadata": {},
   "source": [
    "Модель логистической регрессии справилась хуже. Это видно по метрикам AUC и F1/\n",
    "\n",
    "Выяснили, что экземлпяров одного класса больше в 4 раза, чем другого класса. Перейдём к обучению с учётом дисбаланса классов. Также заметно, что модель случайного леса проявила себя лучше на обучении без учета дисбаланса."
   ]
  },
  {
   "cell_type": "markdown",
   "metadata": {},
   "source": [
    "## Борьба с дисбалансом"
   ]
  },
  {
   "cell_type": "markdown",
   "metadata": {},
   "source": [
    "Увеличим выборку меньшего класса в 4 раза."
   ]
  },
  {
   "cell_type": "code",
   "execution_count": 32,
   "metadata": {},
   "outputs": [
    {
     "data": {
      "text/plain": [
       "1.0"
      ]
     },
     "metadata": {},
     "output_type": "display_data"
    },
    {
     "data": {
      "text/plain": [
       "'отношение количества элементов положительного и отрицательного класса равно единице.'"
      ]
     },
     "metadata": {},
     "output_type": "display_data"
    }
   ],
   "source": [
    "def upsample(features, target, repeat):\n",
    "    features_zeros = features[target == 0]\n",
    "    features_ones = features[target == 1]\n",
    "    target_zeros = target[target == 0]\n",
    "    target_ones = target[target == 1]\n",
    "\n",
    "    features_upsampled = pd.concat([features_zeros] + [features_ones] * repeat)\n",
    "    target_upsampled = pd.concat([target_zeros] + [target_ones] * repeat)\n",
    "    \n",
    "    features_upsampled, target_upsampled = shuffle(\n",
    "        features_upsampled, target_upsampled, random_state=42)\n",
    "    \n",
    "    return features_upsampled, target_upsampled\n",
    "\n",
    "features_train, features_valid, target_train, target_valid = get_samples(target, features, 0.4)\n",
    "features_test, features_valid, target_test, target_valid = get_samples(target_valid, features_valid, 0.5)\n",
    "\n",
    "features_train_upsampled, target_train_upsampled = upsample(features_train, target_train, 3)\n",
    "\n",
    "display(len(features_train_upsampled) / len(target_train_upsampled), 'отношение количества элементов положительного и отрицательного класса равно единице.')"
   ]
  },
  {
   "cell_type": "code",
   "execution_count": 33,
   "metadata": {},
   "outputs": [
    {
     "name": "stdout",
     "output_type": "stream",
     "text": [
      "Лучшая точность на валидационной выборке: 0.6068\n",
      "Параметры лучшей модели: max_depth = 16, n_estimators = 100\n"
     ]
    }
   ],
   "source": [
    "best_forest_model = get_best_random_forest(features_train_upsampled, target_train_upsampled, features_valid, target_valid)"
   ]
  },
  {
   "cell_type": "code",
   "execution_count": 34,
   "metadata": {},
   "outputs": [
    {
     "data": {
      "image/png": "[encoded data removed]",
      "text/plain": [
       "<Figure size 432x288 with 1 Axes>"
      ]
     },
     "metadata": {
      "needs_background": "light"
     },
     "output_type": "display_data"
    }
   ],
   "source": [
    "auc_roc, fpr, tpr, thresholds = get_actual_auc(best_forest_model, target_valid, features_valid)\n",
    "show_roc(fpr, tpr, auc_roc)"
   ]
  },
  {
   "cell_type": "markdown",
   "metadata": {},
   "source": [
    "Получилось увеличить точность F1 Метрики. ROC кривая практически такая же. Тем не менее попробуем уменьшить больший класс в 2 раза и увеличить в 2 раза меньший класс. Сохраним модель отдельно."
   ]
  },
  {
   "cell_type": "code",
   "execution_count": 35,
   "metadata": {},
   "outputs": [],
   "source": [
    "results = results.append(\n",
    "                         {'model':'RandomForestClassifier',\n",
    "                          'f1_valid':0.6068,\n",
    "                          'roc_auc':0.84,\n",
    "                          'balanced':'Positive x 4'},ignore_index=True\n",
    ")"
   ]
  },
  {
   "cell_type": "code",
   "execution_count": 36,
   "metadata": {},
   "outputs": [],
   "source": [
    "def downsample(features, target, fraction):\n",
    "    features_zeros = features[target == 0]\n",
    "    features_ones = features[target == 1]\n",
    "    target_zeros = target[target == 0]\n",
    "    target_ones = target[target == 1]\n",
    "\n",
    "    features_downsampled = pd.concat(\n",
    "        [features_zeros.sample(frac=fraction, random_state=42)] + [features_ones])\n",
    "    target_downsampled = pd.concat(\n",
    "        [target_zeros.sample(frac=fraction, random_state=42)] + [target_ones])\n",
    "    \n",
    "    features_downsampled, target_downsampled = shuffle(\n",
    "        features_downsampled, target_downsampled, random_state=42)\n",
    "    \n",
    "    return features_downsampled, target_downsampled"
   ]
  },
  {
   "cell_type": "code",
   "execution_count": 37,
   "metadata": {},
   "outputs": [],
   "source": [
    "features_train, features_valid, target_train, target_valid = get_samples(target, features, 0.4)\n",
    "features_test, features_valid, target_test, target_valid = get_samples(target_valid, features_valid, 0.5)\n",
    "\n",
    "features_train_downsampled, target_train_downsampled = downsample(features_train, target_train, 0.5)\n",
    "features_train_combined, target_train_combined = upsample(features_train_downsampled, target_train_downsampled, 2)\n"
   ]
  },
  {
   "cell_type": "code",
   "execution_count": 38,
   "metadata": {},
   "outputs": [
    {
     "name": "stdout",
     "output_type": "stream",
     "text": [
      "Лучшая точность на валидационной выборке: 0.6013\n",
      "Параметры лучшей модели: max_depth = 17, n_estimators = 128\n"
     ]
    }
   ],
   "source": [
    "best_forest_model = get_best_random_forest(features_train_combined, target_train_combined, features_valid, target_valid)"
   ]
  },
  {
   "cell_type": "code",
   "execution_count": 39,
   "metadata": {},
   "outputs": [
    {
     "data": {
      "image/png": "[encoded data removed]",
      "text/plain": [
       "<Figure size 432x288 with 1 Axes>"
      ]
     },
     "metadata": {
      "needs_background": "light"
     },
     "output_type": "display_data"
    }
   ],
   "source": [
    "auc_roc, fpr, tpr, thresholds = get_actual_auc(best_forest_model, target_valid, features_valid)\n",
    "show_roc(fpr, tpr, auc_roc)"
   ]
  },
  {
   "cell_type": "code",
   "execution_count": 40,
   "metadata": {},
   "outputs": [],
   "source": [
    "results = results.append(\n",
    "                         {'model':'RandomForestClassifier',\n",
    "                          'f1_valid':0.6013,\n",
    "                          'roc_auc':0.84,\n",
    "                          'balanced':'Negative / 2, Positive x 2'},ignore_index=True\n",
    ")"
   ]
  },
  {
   "cell_type": "markdown",
   "metadata": {},
   "source": [
    "Попробуем уменьшить больший класс в четыре раза."
   ]
  },
  {
   "cell_type": "code",
   "execution_count": 41,
   "metadata": {},
   "outputs": [
    {
     "name": "stdout",
     "output_type": "stream",
     "text": [
      "Лучшая точность на валидационной выборке: 0.5798\n",
      "Параметры лучшей модели: max_depth = 15, n_estimators = 132\n"
     ]
    }
   ],
   "source": [
    "features_train_downsampled, target_train_downsampled = downsample(features_train, target_train, 0.25)\n",
    "\n",
    "best_forest_model1 = get_best_random_forest(features_train_downsampled, target_train_downsampled, features_valid, target_valid)"
   ]
  },
  {
   "cell_type": "code",
   "execution_count": 42,
   "metadata": {},
   "outputs": [
    {
     "data": {
      "image/png": "[encoded data removed]",
      "text/plain": [
       "<Figure size 432x288 with 1 Axes>"
      ]
     },
     "metadata": {
      "needs_background": "light"
     },
     "output_type": "display_data"
    }
   ],
   "source": [
    "auc_roc, fpr, tpr, thresholds = get_actual_auc(best_forest_model1, target_valid, features_valid)\n",
    "show_roc(fpr, tpr, auc_roc)"
   ]
  },
  {
   "cell_type": "code",
   "execution_count": 43,
   "metadata": {},
   "outputs": [],
   "source": [
    "results = results.append(\n",
    "                         {'model':'RandomForestClassifier',\n",
    "                          'f1_valid':0.5798,\n",
    "                          'roc_auc':0.85,\n",
    "                          'balanced':'Negative / 4'},ignore_index=True\n",
    ")"
   ]
  },
  {
   "cell_type": "markdown",
   "metadata": {},
   "source": [
    "Лучшая точность была при использорвании комбинированного способа решения проблемы дисбаланса."
   ]
  },
  {
   "cell_type": "code",
   "execution_count": 44,
   "metadata": {},
   "outputs": [
    {
     "name": "stdout",
     "output_type": "stream",
     "text": [
      "Лучшая точность на валидационной выборке: 0.4874\n"
     ]
    },
    {
     "data": {
      "image/png": "[encoded data removed]",
      "text/plain": [
       "<Figure size 432x288 with 1 Axes>"
      ]
     },
     "metadata": {
      "needs_background": "light"
     },
     "output_type": "display_data"
    }
   ],
   "source": [
    "best_logist_model = get_logistic_regression(features_train_combined, target_train_combined, features_valid, target_valid)\n",
    "\n",
    "auc_roc, fpr, tpr, thresholds = get_actual_auc(best_logist_model, target_valid, features_valid)\n",
    "show_roc(fpr, tpr, auc_roc)"
   ]
  },
  {
   "cell_type": "code",
   "execution_count": 45,
   "metadata": {},
   "outputs": [],
   "source": [
    "results = results.append(\n",
    "                         {'model':'LogisticRegression',\n",
    "                          'f1_valid':0.4874,\n",
    "                          'roc_auc':0.77,\n",
    "                          'balanced':'Negative / 2, Positive x 2'},ignore_index=True\n",
    ")"
   ]
  },
  {
   "cell_type": "markdown",
   "metadata": {},
   "source": [
    "Логистическая регрессия показала себя значительно хуже случайного леса, остановимся на нём."
   ]
  },
  {
   "cell_type": "code",
   "execution_count": 46,
   "metadata": {},
   "outputs": [
    {
     "name": "stdout",
     "output_type": "stream",
     "text": [
      "С лучшим порогом (0.5000000000000002) значение метрики F1 = 0.6012793176972282\n"
     ]
    },
    {
     "data": {
      "image/png": "[encoded data removed]",
      "text/plain": [
       "<Figure size 432x288 with 1 Axes>"
      ]
     },
     "metadata": {
      "needs_background": "light"
     },
     "output_type": "display_data"
    }
   ],
   "source": [
    "probabilities_valid = best_forest_model.predict_proba(features_valid)\n",
    "probabilities_one_valid = probabilities_valid[:, 1]\n",
    "\n",
    "list_threshold = []\n",
    "best_threshold = 0\n",
    "actual_f1 = 0\n",
    "best_f1 = 0\n",
    "max_range = 0.9\n",
    "min_range = 0.2\n",
    "range_threshold = np.arange(min_range, max_range, 0.001)\n",
    "\n",
    "for threshold in range_threshold:\n",
    "    predictions = probabilities_one_valid > threshold\n",
    "    actual_f1 = f1_score(target_valid, predictions)\n",
    "    if actual_f1 > best_f1:\n",
    "        best_f1 = actual_f1\n",
    "        best_threshold = threshold\n",
    "    list_threshold.append(actual_f1)\n",
    "    \n",
    "print(f'С лучшим порогом ({best_threshold}) значение метрики F1 = {best_f1}')\n",
    "\n",
    "\n",
    "plt.plot(range_threshold.tolist(), list_threshold, color='darkorange')\n",
    "plt.plot([best_threshold, best_threshold], [0, 1.05], color='navy', linestyle='--')\n",
    "plt.grid(color='black')\n",
    "plt.xlim([min_range, max_range])\n",
    "plt.ylim([0.3, 1.05])\n",
    "plt.xlabel('Threshold')\n",
    "plt.ylabel('F1')\n",
    "plt.show()"
   ]
  },
  {
   "cell_type": "code",
   "execution_count": 47,
   "metadata": {},
   "outputs": [
    {
     "name": "stdout",
     "output_type": "stream",
     "text": [
      "F1 = 0.6013\n"
     ]
    },
    {
     "data": {
      "image/png": "[encoded data removed]",
      "text/plain": [
       "<Figure size 432x288 with 1 Axes>"
      ]
     },
     "metadata": {
      "needs_background": "light"
     },
     "output_type": "display_data"
    }
   ],
   "source": [
    "probabilities = best_forest_model.predict_proba(features_valid)\n",
    "probabilities_one_valid = probabilities_valid[:, 1]\n",
    "\n",
    "predictions = probabilities_one_valid > best_threshold\n",
    "\n",
    "print(f'F1 = {f1_score(target_valid, predictions):.4f}')\n",
    "\n",
    "auc_roc, fpr, tpr, thresholds = get_actual_auc(best_forest_model, target_valid, features_valid)\n",
    "show_roc(fpr, tpr, auc_roc)"
   ]
  },
  {
   "cell_type": "code",
   "execution_count": 48,
   "metadata": {},
   "outputs": [],
   "source": [
    "results = results.append(\n",
    "                         {'model':'RandomForestClassifier',\n",
    "                          'f1_valid':0.6013,\n",
    "                          'roc_auc':0.84,\n",
    "                          'balanced':'Negative / 2, Positive x 2, Best Threshold'},ignore_index=True\n",
    ")"
   ]
  },
  {
   "cell_type": "markdown",
   "metadata": {},
   "source": [
    "Результат удовлетворительный, переходим к тестированию."
   ]
  },
  {
   "cell_type": "markdown",
   "metadata": {},
   "source": [
    "## Тестирование модели"
   ]
  },
  {
   "cell_type": "code",
   "execution_count": 49,
   "metadata": {},
   "outputs": [
    {
     "name": "stdout",
     "output_type": "stream",
     "text": [
      "F1 = 0.5893\n"
     ]
    },
    {
     "data": {
      "image/png": "[encoded data removed]",
      "text/plain": [
       "<Figure size 432x288 with 1 Axes>"
      ]
     },
     "metadata": {
      "needs_background": "light"
     },
     "output_type": "display_data"
    }
   ],
   "source": [
    "probabilities = best_forest_model.predict_proba(features_test)\n",
    "probabilities_one_valid = probabilities[:, 1]\n",
    "\n",
    "predictions = probabilities_one_valid > best_threshold\n",
    "\n",
    "print(f'F1 = {f1_score(target_test, predictions):.4f}')\n",
    "\n",
    "auc_roc, fpr, tpr, thresholds = get_actual_auc(best_forest_model, target_test, features_test)\n",
    "show_roc(fpr, tpr, auc_roc)"
   ]
  },
  {
   "cell_type": "code",
   "execution_count": 50,
   "metadata": {},
   "outputs": [],
   "source": [
    "results = results.append(\n",
    "                         {'model':'RandomForestClassifier (test)',\n",
    "                          'f1_valid':0.5893,\n",
    "                          'roc_auc':0.86,\n",
    "                          'balanced':'Negative / 2, Positive x 2, Best Threshold'},ignore_index=True\n",
    ")"
   ]
  },
  {
   "cell_type": "code",
   "execution_count": 51,
   "metadata": {},
   "outputs": [
    {
     "data": {
      "text/html": [
       "<div>\n",
       "<style scoped>\n",
       "    .dataframe tbody tr th:only-of-type {\n",
       "        vertical-align: middle;\n",
       "    }\n",
       "\n",
       "    .dataframe tbody tr th {\n",
       "        vertical-align: top;\n",
       "    }\n",
       "\n",
       "    .dataframe thead th {\n",
       "        text-align: right;\n",
       "    }\n",
       "</style>\n",
       "<table border=\"1\" class=\"dataframe\">\n",
       "  <thead>\n",
       "    <tr style=\"text-align: right;\">\n",
       "      <th></th>\n",
       "      <th>model</th>\n",
       "      <th>f1_valid</th>\n",
       "      <th>roc_auc</th>\n",
       "      <th>balanced</th>\n",
       "    </tr>\n",
       "  </thead>\n",
       "  <tbody>\n",
       "    <tr>\n",
       "      <td>0</td>\n",
       "      <td>RandomForestClassifier</td>\n",
       "      <td>0.5941</td>\n",
       "      <td>0.85</td>\n",
       "      <td>False</td>\n",
       "    </tr>\n",
       "    <tr>\n",
       "      <td>1</td>\n",
       "      <td>LogisticRegression</td>\n",
       "      <td>0.3105</td>\n",
       "      <td>0.77</td>\n",
       "      <td>False</td>\n",
       "    </tr>\n",
       "    <tr>\n",
       "      <td>2</td>\n",
       "      <td>RandomForestClassifier</td>\n",
       "      <td>0.6068</td>\n",
       "      <td>0.84</td>\n",
       "      <td>Positive x 4</td>\n",
       "    </tr>\n",
       "    <tr>\n",
       "      <td>3</td>\n",
       "      <td>RandomForestClassifier</td>\n",
       "      <td>0.6013</td>\n",
       "      <td>0.84</td>\n",
       "      <td>Negative / 2, Positive x 2</td>\n",
       "    </tr>\n",
       "    <tr>\n",
       "      <td>4</td>\n",
       "      <td>RandomForestClassifier</td>\n",
       "      <td>0.5798</td>\n",
       "      <td>0.85</td>\n",
       "      <td>Negative / 4</td>\n",
       "    </tr>\n",
       "    <tr>\n",
       "      <td>5</td>\n",
       "      <td>LogisticRegression</td>\n",
       "      <td>0.4874</td>\n",
       "      <td>0.77</td>\n",
       "      <td>Negative / 2, Positive x 2</td>\n",
       "    </tr>\n",
       "    <tr>\n",
       "      <td>6</td>\n",
       "      <td>RandomForestClassifier</td>\n",
       "      <td>0.6013</td>\n",
       "      <td>0.84</td>\n",
       "      <td>Negative / 2, Positive x 2, Best Threshold</td>\n",
       "    </tr>\n",
       "    <tr>\n",
       "      <td>7</td>\n",
       "      <td>RandomForestClassifier (test)</td>\n",
       "      <td>0.5893</td>\n",
       "      <td>0.86</td>\n",
       "      <td>Negative / 2, Positive x 2, Best Threshold</td>\n",
       "    </tr>\n",
       "  </tbody>\n",
       "</table>\n",
       "</div>"
      ],
      "text/plain": [
       "                           model  f1_valid  roc_auc  \\\n",
       "0         RandomForestClassifier    0.5941     0.85   \n",
       "1             LogisticRegression    0.3105     0.77   \n",
       "2         RandomForestClassifier    0.6068     0.84   \n",
       "3         RandomForestClassifier    0.6013     0.84   \n",
       "4         RandomForestClassifier    0.5798     0.85   \n",
       "5             LogisticRegression    0.4874     0.77   \n",
       "6         RandomForestClassifier    0.6013     0.84   \n",
       "7  RandomForestClassifier (test)    0.5893     0.86   \n",
       "\n",
       "                                     balanced  \n",
       "0                                       False  \n",
       "1                                       False  \n",
       "2                                Positive x 4  \n",
       "3                  Negative / 2, Positive x 2  \n",
       "4                                Negative / 4  \n",
       "5                  Negative / 2, Positive x 2  \n",
       "6  Negative / 2, Positive x 2, Best Threshold  \n",
       "7  Negative / 2, Positive x 2, Best Threshold  "
      ]
     },
     "execution_count": 51,
     "metadata": {},
     "output_type": "execute_result"
    }
   ],
   "source": [
    "results"
   ]
  },
  {
   "cell_type": "code",
   "execution_count": 52,
   "metadata": {},
   "outputs": [
    {
     "name": "stdout",
     "output_type": "stream",
     "text": [
      "<class 'pandas.core.frame.DataFrame'>\n",
      "Int64Index: 8000 entries, 6851 to 7634\n",
      "Data columns (total 11 columns):\n",
      "credit_score       8000 non-null float64\n",
      "age                8000 non-null float64\n",
      "tenure             8000 non-null float64\n",
      "balance            8000 non-null float64\n",
      "num_of_products    8000 non-null float64\n",
      "has_cr_card        8000 non-null int64\n",
      "is_active          8000 non-null int64\n",
      "salary             8000 non-null float64\n",
      "country_Germany    8000 non-null uint8\n",
      "country_Spain      8000 non-null uint8\n",
      "gender_Male        8000 non-null uint8\n",
      "dtypes: float64(6), int64(2), uint8(3)\n",
      "memory usage: 585.9 KB\n"
     ]
    }
   ],
   "source": [
    "features_all = features_train.append(features_valid)\n",
    "features_all.info()"
   ]
  },
  {
   "cell_type": "code",
   "execution_count": 53,
   "metadata": {},
   "outputs": [],
   "source": [
    "model_all = RandomForestClassifier(random_state=42, max_depth=17, n_estimators=128, class_weight='balanced')\n",
    "model_all.fit(features_train_combined, target_train_combined)\n",
    "predictions = model_all.predict(features_valid)\n",
    "actual_f1 = f1_score(target_valid, predictions)"
   ]
  },
  {
   "cell_type": "code",
   "execution_count": 55,
   "metadata": {},
   "outputs": [
    {
     "name": "stdout",
     "output_type": "stream",
     "text": [
      "F1 = 0.5893\n"
     ]
    },
    {
     "data": {
      "image/png": "[encoded data removed]",
      "text/plain": [
       "<Figure size 432x288 with 1 Axes>"
      ]
     },
     "metadata": {
      "needs_background": "light"
     },
     "output_type": "display_data"
    }
   ],
   "source": [
    "probabilities = model_all.predict_proba(features_test)\n",
    "probabilities_all = probabilities[:, 1]\n",
    "\n",
    "predictions = probabilities_all > best_threshold\n",
    "\n",
    "print(f'F1 = {f1_score(target_test, predictions):.4f}')\n",
    "\n",
    "auc_roc, fpr, tpr, thresholds = get_actual_auc(model_all, target_test, features_test)\n",
    "show_roc(fpr, tpr, auc_roc)"
   ]
  },
  {
   "cell_type": "code",
   "execution_count": 57,
   "metadata": {},
   "outputs": [
    {
     "data": {
      "image/png": "[encoded data removed]",
      "text/plain": [
       "<Figure size 432x288 with 1 Axes>"
      ]
     },
     "metadata": {
      "needs_background": "light"
     },
     "output_type": "display_data"
    }
   ],
   "source": [
    "feat_importances1 = pd.Series(best_forest_model.feature_importances_, index=features_train_combined.columns)\n",
    "feat_importances1.nlargest(20).plot(kind='barh')\n",
    "plt.show()"
   ]
  },
  {
   "cell_type": "markdown",
   "metadata": {},
   "source": [
    "**Общий вывод**\n",
    "\n",
    "Наш итоговый результат: F1 = 0.5893, AUC = 0.86\n",
    "\n",
    "Мы смогли добиться этого, уменьшив больший класс вдвое, и увеличив меньший класс также вдвое. Подобрали оптимальное значение порога. Наилучим образом отработала модель случайного леса.\n",
    "\n",
    "Если учитывать показатели метрики F-меры, то модель, с учетом балансировки, делает прогнозы лучше, чем без учета. На метрику ROC-AUC балансировка не повлияла.\n",
    "\n",
    "Для более адекватной оценки модели, необходим отдельный тестовый набор данных. Службе маркетинга можем рекомендовать взять данную модель для пронозирования оттока на тестирование на реальных данных. "
   ]
  }
 ],
 "metadata": {
  "ExecuteTimeLog": [
   {
    "duration": 1970,
    "start_time": "2022-01-18T15:35:17.300Z"
   },
   {
    "duration": 2538,
    "start_time": "2022-01-18T15:35:30.538Z"
   },
   {
    "duration": 7,
    "start_time": "2022-01-18T15:44:23.363Z"
   },
   {
    "duration": 29,
    "start_time": "2022-01-18T15:44:46.281Z"
   },
   {
    "duration": 7,
    "start_time": "2022-01-18T15:45:05.816Z"
   },
   {
    "duration": 272,
    "start_time": "2022-01-18T15:51:15.859Z"
   },
   {
    "duration": 11,
    "start_time": "2022-01-18T15:51:20.271Z"
   },
   {
    "duration": 20,
    "start_time": "2022-01-18T15:58:55.147Z"
   },
   {
    "duration": 48,
    "start_time": "2022-01-18T15:59:33.467Z"
   },
   {
    "duration": 12,
    "start_time": "2022-01-18T16:00:35.154Z"
   },
   {
    "duration": 4,
    "start_time": "2022-01-18T17:03:03.751Z"
   },
   {
    "duration": 264,
    "start_time": "2022-01-18T17:09:04.122Z"
   },
   {
    "duration": 8,
    "start_time": "2022-01-18T17:10:16.697Z"
   },
   {
    "duration": 30,
    "start_time": "2022-01-18T17:10:16.707Z"
   },
   {
    "duration": 11,
    "start_time": "2022-01-18T17:10:16.739Z"
   },
   {
    "duration": 13,
    "start_time": "2022-01-18T17:10:16.752Z"
   },
   {
    "duration": 67,
    "start_time": "2022-01-18T17:10:16.767Z"
   },
   {
    "duration": 11,
    "start_time": "2022-01-18T17:10:16.835Z"
   },
   {
    "duration": 4,
    "start_time": "2022-01-18T17:10:30.665Z"
   },
   {
    "duration": 4,
    "start_time": "2022-01-18T17:10:39.434Z"
   },
   {
    "duration": 4,
    "start_time": "2022-01-18T17:10:41.354Z"
   },
   {
    "duration": 6,
    "start_time": "2022-01-18T17:12:00.706Z"
   },
   {
    "duration": 268,
    "start_time": "2022-01-18T17:14:46.997Z"
   },
   {
    "duration": 4,
    "start_time": "2022-01-18T17:14:55.157Z"
   },
   {
    "duration": 5,
    "start_time": "2022-01-18T17:16:20.806Z"
   },
   {
    "duration": 21,
    "start_time": "2022-01-18T17:17:24.315Z"
   },
   {
    "duration": 1912,
    "start_time": "2022-01-19T10:39:50.076Z"
   },
   {
    "duration": 39,
    "start_time": "2022-01-19T10:39:51.991Z"
   },
   {
    "duration": 14,
    "start_time": "2022-01-19T10:39:52.033Z"
   },
   {
    "duration": 27,
    "start_time": "2022-01-19T10:39:52.815Z"
   },
   {
    "duration": 66,
    "start_time": "2022-01-19T10:39:55.366Z"
   },
   {
    "duration": 18,
    "start_time": "2022-01-19T10:39:57.321Z"
   },
   {
    "duration": 8,
    "start_time": "2022-01-19T10:39:58.528Z"
   },
   {
    "duration": 6,
    "start_time": "2022-01-19T10:39:59.237Z"
   },
   {
    "duration": 7,
    "start_time": "2022-01-19T10:40:00.437Z"
   },
   {
    "duration": 22,
    "start_time": "2022-01-19T10:40:00.902Z"
   },
   {
    "duration": 9857,
    "start_time": "2022-01-19T10:40:23.785Z"
   },
   {
    "duration": 10554,
    "start_time": "2022-01-19T10:41:06.589Z"
   },
   {
    "duration": 10494,
    "start_time": "2022-01-19T10:41:41.102Z"
   },
   {
    "duration": 7,
    "start_time": "2022-01-19T10:42:28.582Z"
   },
   {
    "duration": 19,
    "start_time": "2022-01-19T10:46:20.820Z"
   },
   {
    "duration": 394,
    "start_time": "2022-01-19T10:49:32.981Z"
   },
   {
    "duration": 10125,
    "start_time": "2022-01-19T10:49:48.433Z"
   },
   {
    "duration": 20,
    "start_time": "2022-01-19T10:50:07.802Z"
   },
   {
    "duration": 374,
    "start_time": "2022-01-19T10:55:42.045Z"
   },
   {
    "duration": 387,
    "start_time": "2022-01-19T11:11:44.365Z"
   },
   {
    "duration": 359,
    "start_time": "2022-01-19T11:11:53.627Z"
   },
   {
    "duration": 386,
    "start_time": "2022-01-19T11:12:27.568Z"
   },
   {
    "duration": 10,
    "start_time": "2022-01-19T13:56:37.394Z"
   },
   {
    "duration": 1734,
    "start_time": "2022-01-19T13:56:39.960Z"
   },
   {
    "duration": 11,
    "start_time": "2022-01-19T13:56:41.696Z"
   },
   {
    "duration": 19,
    "start_time": "2022-01-19T13:56:43.287Z"
   },
   {
    "duration": 63,
    "start_time": "2022-01-19T13:56:46.924Z"
   },
   {
    "duration": 3238,
    "start_time": "2022-01-19T13:56:48.544Z"
   },
   {
    "duration": 6988,
    "start_time": "2022-01-19T13:56:51.785Z"
   },
   {
    "duration": 2997,
    "start_time": "2022-01-19T13:56:58.776Z"
   },
   {
    "duration": 15,
    "start_time": "2022-01-19T13:57:01.775Z"
   },
   {
    "duration": 36,
    "start_time": "2022-01-19T13:57:01.793Z"
   },
   {
    "duration": 479,
    "start_time": "2022-01-19T14:00:00.628Z"
   },
   {
    "duration": 13,
    "start_time": "2022-01-19T14:00:13.830Z"
   },
   {
    "duration": 21,
    "start_time": "2022-01-19T14:04:11.130Z"
   },
   {
    "duration": 66,
    "start_time": "2022-01-19T14:09:18.060Z"
   },
   {
    "duration": 15,
    "start_time": "2022-01-19T14:10:12.228Z"
   },
   {
    "duration": 1247,
    "start_time": "2022-01-19T14:27:13.832Z"
   },
   {
    "duration": 1443,
    "start_time": "2022-01-19T14:27:30.904Z"
   },
   {
    "duration": 1518,
    "start_time": "2022-01-19T14:27:47.186Z"
   },
   {
    "duration": 43,
    "start_time": "2022-01-19T14:38:26.173Z"
   },
   {
    "duration": 21,
    "start_time": "2022-01-19T14:43:02.855Z"
   },
   {
    "duration": 13,
    "start_time": "2022-01-19T14:43:28.445Z"
   },
   {
    "duration": 12,
    "start_time": "2022-01-19T14:44:14.660Z"
   },
   {
    "duration": 11,
    "start_time": "2022-01-19T14:44:29.026Z"
   },
   {
    "duration": 10,
    "start_time": "2022-01-19T14:44:44.890Z"
   },
   {
    "duration": 19,
    "start_time": "2022-01-19T14:51:24.997Z"
   },
   {
    "duration": 14,
    "start_time": "2022-01-19T14:51:39.675Z"
   },
   {
    "duration": 251,
    "start_time": "2022-01-19T14:53:25.173Z"
   },
   {
    "duration": 11,
    "start_time": "2022-01-19T14:54:08.983Z"
   },
   {
    "duration": 2025,
    "start_time": "2022-01-19T14:54:13.013Z"
   },
   {
    "duration": 393,
    "start_time": "2022-01-19T14:54:19.972Z"
   },
   {
    "duration": 590,
    "start_time": "2022-01-19T14:56:36.221Z"
   },
   {
    "duration": 398,
    "start_time": "2022-01-19T15:03:15.761Z"
   },
   {
    "duration": 4813,
    "start_time": "2022-01-19T15:03:49.505Z"
   },
   {
    "duration": 371,
    "start_time": "2022-01-19T15:04:07.491Z"
   },
   {
    "duration": 12,
    "start_time": "2022-01-19T15:04:32.524Z"
   },
   {
    "duration": 39,
    "start_time": "2022-01-19T15:04:32.868Z"
   },
   {
    "duration": 16,
    "start_time": "2022-01-19T15:04:33.294Z"
   },
   {
    "duration": 19,
    "start_time": "2022-01-19T15:04:33.990Z"
   },
   {
    "duration": 64,
    "start_time": "2022-01-19T15:04:34.603Z"
   },
   {
    "duration": 20,
    "start_time": "2022-01-19T15:04:35.718Z"
   },
   {
    "duration": 8,
    "start_time": "2022-01-19T15:04:37.343Z"
   },
   {
    "duration": 7,
    "start_time": "2022-01-19T15:04:37.421Z"
   },
   {
    "duration": 6,
    "start_time": "2022-01-19T15:04:38.315Z"
   },
   {
    "duration": 21,
    "start_time": "2022-01-19T15:04:39.481Z"
   },
   {
    "duration": 42,
    "start_time": "2022-01-19T15:04:49.628Z"
   },
   {
    "duration": 15,
    "start_time": "2022-01-19T15:04:53.425Z"
   },
   {
    "duration": 2061,
    "start_time": "2022-01-19T15:04:57.763Z"
   },
   {
    "duration": 13,
    "start_time": "2022-01-19T15:05:03.171Z"
   },
   {
    "duration": 318,
    "start_time": "2022-01-19T15:05:03.649Z"
   },
   {
    "duration": 421,
    "start_time": "2022-01-19T15:05:04.598Z"
   },
   {
    "duration": 1527,
    "start_time": "2022-01-19T15:06:42.891Z"
   },
   {
    "duration": 41,
    "start_time": "2022-01-19T15:06:44.421Z"
   },
   {
    "duration": 15,
    "start_time": "2022-01-19T15:06:44.468Z"
   },
   {
    "duration": 25,
    "start_time": "2022-01-19T15:06:44.485Z"
   },
   {
    "duration": 106,
    "start_time": "2022-01-19T15:06:44.512Z"
   },
   {
    "duration": 52,
    "start_time": "2022-01-19T15:06:44.621Z"
   },
   {
    "duration": 7,
    "start_time": "2022-01-19T15:06:44.679Z"
   },
   {
    "duration": 7,
    "start_time": "2022-01-19T15:06:44.689Z"
   },
   {
    "duration": 5,
    "start_time": "2022-01-19T15:06:44.699Z"
   },
   {
    "duration": 67,
    "start_time": "2022-01-19T15:06:44.707Z"
   },
   {
    "duration": 42,
    "start_time": "2022-01-19T15:06:44.776Z"
   },
   {
    "duration": 40,
    "start_time": "2022-01-19T15:06:44.820Z"
   },
   {
    "duration": 2114,
    "start_time": "2022-01-19T15:06:44.863Z"
   },
   {
    "duration": 14,
    "start_time": "2022-01-19T15:06:46.979Z"
   },
   {
    "duration": 382,
    "start_time": "2022-01-19T15:06:46.996Z"
   },
   {
    "duration": 506,
    "start_time": "2022-01-19T15:06:47.381Z"
   },
   {
    "duration": 929,
    "start_time": "2022-01-19T15:06:46.960Z"
   },
   {
    "duration": 30,
    "start_time": "2022-01-19T15:08:32.999Z"
   },
   {
    "duration": 855,
    "start_time": "2022-01-19T15:08:47.008Z"
   },
   {
    "duration": 20,
    "start_time": "2022-01-19T15:17:18.742Z"
   },
   {
    "duration": 10,
    "start_time": "2022-01-19T15:20:18.759Z"
   },
   {
    "duration": 432,
    "start_time": "2022-01-19T15:21:31.089Z"
   },
   {
    "duration": 27,
    "start_time": "2022-01-19T15:21:36.273Z"
   },
   {
    "duration": 25,
    "start_time": "2022-01-19T15:35:48.674Z"
   },
   {
    "duration": 22,
    "start_time": "2022-01-19T15:37:59.357Z"
   },
   {
    "duration": 26,
    "start_time": "2022-01-19T15:38:29.177Z"
   },
   {
    "duration": 8,
    "start_time": "2022-01-19T15:40:08.659Z"
   },
   {
    "duration": 1915,
    "start_time": "2022-01-19T17:29:10.273Z"
   },
   {
    "duration": 9,
    "start_time": "2022-01-19T17:29:19.612Z"
   },
   {
    "duration": 1809,
    "start_time": "2022-01-19T17:29:23.922Z"
   },
   {
    "duration": 11,
    "start_time": "2022-01-19T17:29:59.556Z"
   },
   {
    "duration": 2571,
    "start_time": "2022-01-19T17:30:05.901Z"
   },
   {
    "duration": 12,
    "start_time": "2022-01-19T17:30:27.899Z"
   },
   {
    "duration": 18888,
    "start_time": "2022-01-19T17:30:33.294Z"
   },
   {
    "duration": 128427,
    "start_time": "2022-01-19T17:33:18.746Z"
   },
   {
    "duration": 480,
    "start_time": "2022-01-19T17:43:57.554Z"
   },
   {
    "duration": 8,
    "start_time": "2022-01-19T17:46:20.859Z"
   },
   {
    "duration": 498,
    "start_time": "2022-01-19T17:46:25.262Z"
   },
   {
    "duration": 8,
    "start_time": "2022-01-19T17:47:22.864Z"
   },
   {
    "duration": 491,
    "start_time": "2022-01-19T17:47:27.420Z"
   },
   {
    "duration": 1252,
    "start_time": "2022-01-20T14:26:09.201Z"
   },
   {
    "duration": 28,
    "start_time": "2022-01-20T14:26:11.114Z"
   },
   {
    "duration": 10,
    "start_time": "2022-01-20T14:26:11.846Z"
   },
   {
    "duration": 15,
    "start_time": "2022-01-20T14:26:12.850Z"
   },
   {
    "duration": 44,
    "start_time": "2022-01-20T14:26:13.668Z"
   },
   {
    "duration": 13,
    "start_time": "2022-01-20T14:26:15.077Z"
   },
   {
    "duration": 4,
    "start_time": "2022-01-20T14:26:17.719Z"
   },
   {
    "duration": 7,
    "start_time": "2022-01-20T14:26:17.725Z"
   },
   {
    "duration": 4,
    "start_time": "2022-01-20T14:26:18.418Z"
   },
   {
    "duration": 13,
    "start_time": "2022-01-20T14:26:21.877Z"
   },
   {
    "duration": 30,
    "start_time": "2022-01-20T14:26:22.181Z"
   },
   {
    "duration": 11,
    "start_time": "2022-01-20T14:26:25.136Z"
   },
   {
    "duration": 1480,
    "start_time": "2022-01-20T14:26:25.149Z"
   },
   {
    "duration": 11,
    "start_time": "2022-01-20T14:26:30.476Z"
   },
   {
    "duration": 260,
    "start_time": "2022-01-20T14:26:31.235Z"
   },
   {
    "duration": 406,
    "start_time": "2022-01-20T14:26:34.307Z"
   },
   {
    "duration": 83,
    "start_time": "2022-01-20T14:28:06.623Z"
   },
   {
    "duration": 9,
    "start_time": "2022-01-20T14:28:17.853Z"
   },
   {
    "duration": 100615,
    "start_time": "2022-01-20T14:28:34.298Z"
   },
   {
    "duration": 663,
    "start_time": "2022-01-20T14:30:14.915Z"
   },
   {
    "duration": 2479,
    "start_time": "2022-01-20T14:32:29.926Z"
   },
   {
    "duration": 1167,
    "start_time": "2022-01-20T14:33:20.731Z"
   },
   {
    "duration": 29,
    "start_time": "2022-01-20T14:33:21.900Z"
   },
   {
    "duration": 14,
    "start_time": "2022-01-20T14:33:21.931Z"
   },
   {
    "duration": 23,
    "start_time": "2022-01-20T14:33:21.947Z"
   },
   {
    "duration": 55,
    "start_time": "2022-01-20T14:33:21.972Z"
   },
   {
    "duration": 12,
    "start_time": "2022-01-20T14:33:22.028Z"
   },
   {
    "duration": 4,
    "start_time": "2022-01-20T14:33:22.041Z"
   },
   {
    "duration": 24,
    "start_time": "2022-01-20T14:33:22.048Z"
   },
   {
    "duration": 13,
    "start_time": "2022-01-20T14:33:22.074Z"
   },
   {
    "duration": 29,
    "start_time": "2022-01-20T14:33:22.088Z"
   },
   {
    "duration": 28,
    "start_time": "2022-01-20T14:33:22.118Z"
   },
   {
    "duration": 10,
    "start_time": "2022-01-20T14:33:22.147Z"
   },
   {
    "duration": 1470,
    "start_time": "2022-01-20T14:33:22.159Z"
   },
   {
    "duration": 9,
    "start_time": "2022-01-20T14:33:23.631Z"
   },
   {
    "duration": 273,
    "start_time": "2022-01-20T14:33:23.641Z"
   },
   {
    "duration": 2,
    "start_time": "2022-01-20T14:33:23.916Z"
   },
   {
    "duration": 593,
    "start_time": "2022-01-20T14:33:23.920Z"
   },
   {
    "duration": 15,
    "start_time": "2022-01-20T14:33:24.515Z"
   },
   {
    "duration": 31,
    "start_time": "2022-01-20T14:33:24.532Z"
   },
   {
    "duration": 8,
    "start_time": "2022-01-20T14:33:24.565Z"
   },
   {
    "duration": 37,
    "start_time": "2022-01-20T14:33:24.575Z"
   },
   {
    "duration": 10,
    "start_time": "2022-01-20T14:33:24.614Z"
   },
   {
    "duration": 86814,
    "start_time": "2022-01-20T14:33:24.628Z"
   },
   {
    "duration": 352,
    "start_time": "2022-01-20T14:34:51.443Z"
   },
   {
    "duration": 530,
    "start_time": "2022-01-20T14:38:50.460Z"
   },
   {
    "duration": 384,
    "start_time": "2022-01-20T15:00:06.198Z"
   },
   {
    "duration": 491,
    "start_time": "2022-01-20T15:02:09.614Z"
   },
   {
    "duration": 9,
    "start_time": "2022-01-20T15:02:52.532Z"
   },
   {
    "duration": 27,
    "start_time": "2022-01-20T15:03:00.308Z"
   },
   {
    "duration": 26,
    "start_time": "2022-01-20T15:05:05.722Z"
   },
   {
    "duration": 144,
    "start_time": "2022-01-20T15:05:23.853Z"
   },
   {
    "duration": 26,
    "start_time": "2022-01-20T15:05:52.750Z"
   },
   {
    "duration": 87623,
    "start_time": "2022-01-20T15:07:11.353Z"
   },
   {
    "duration": -375,
    "start_time": "2022-01-20T15:08:39.353Z"
   },
   {
    "duration": 27,
    "start_time": "2022-01-20T15:08:42.896Z"
   },
   {
    "duration": 4,
    "start_time": "2022-01-20T15:08:55.580Z"
   },
   {
    "duration": 92090,
    "start_time": "2022-01-20T15:09:12.661Z"
   },
   {
    "duration": 122845,
    "start_time": "2022-01-20T15:12:28.399Z"
   },
   {
    "duration": 339,
    "start_time": "2022-01-20T15:21:47.541Z"
   },
   {
    "duration": 4,
    "start_time": "2022-01-20T15:24:07.855Z"
   },
   {
    "duration": 27,
    "start_time": "2022-01-20T15:25:31.938Z"
   },
   {
    "duration": 4,
    "start_time": "2022-01-20T15:26:24.125Z"
   },
   {
    "duration": 75677,
    "start_time": "2022-01-20T15:26:52.826Z"
   },
   {
    "duration": 344,
    "start_time": "2022-01-20T15:28:45.517Z"
   },
   {
    "duration": 48416,
    "start_time": "2022-01-20T15:30:30.354Z"
   },
   {
    "duration": 511,
    "start_time": "2022-01-20T15:37:06.681Z"
   },
   {
    "duration": 82,
    "start_time": "2022-01-20T15:37:52.978Z"
   },
   {
    "duration": 1314,
    "start_time": "2022-01-20T15:39:31.326Z"
   },
   {
    "duration": 1301,
    "start_time": "2022-01-20T15:40:51.443Z"
   },
   {
    "duration": 387,
    "start_time": "2022-01-20T15:42:00.075Z"
   },
   {
    "duration": 90,
    "start_time": "2022-01-20T15:43:23.810Z"
   },
   {
    "duration": 371,
    "start_time": "2022-01-20T15:43:37.212Z"
   },
   {
    "duration": 297,
    "start_time": "2022-01-20T17:34:20.071Z"
   },
   {
    "duration": 272,
    "start_time": "2022-01-20T17:34:26.855Z"
   },
   {
    "duration": 1162,
    "start_time": "2022-01-20T17:34:33.620Z"
   },
   {
    "duration": 1302,
    "start_time": "2022-01-20T17:38:04.604Z"
   },
   {
    "duration": 29,
    "start_time": "2022-01-20T17:38:05.908Z"
   },
   {
    "duration": 9,
    "start_time": "2022-01-20T17:38:05.939Z"
   },
   {
    "duration": 16,
    "start_time": "2022-01-20T17:38:05.950Z"
   },
   {
    "duration": 60,
    "start_time": "2022-01-20T17:38:05.968Z"
   },
   {
    "duration": 13,
    "start_time": "2022-01-20T17:38:06.030Z"
   },
   {
    "duration": 4,
    "start_time": "2022-01-20T17:38:06.045Z"
   },
   {
    "duration": 7,
    "start_time": "2022-01-20T17:38:06.052Z"
   },
   {
    "duration": 8,
    "start_time": "2022-01-20T17:38:06.062Z"
   },
   {
    "duration": 41,
    "start_time": "2022-01-20T17:38:06.072Z"
   },
   {
    "duration": 545,
    "start_time": "2022-01-20T17:38:06.115Z"
   },
   {
    "duration": -84,
    "start_time": "2022-01-20T17:38:06.746Z"
   },
   {
    "duration": -85,
    "start_time": "2022-01-20T17:38:06.749Z"
   },
   {
    "duration": -87,
    "start_time": "2022-01-20T17:38:06.752Z"
   },
   {
    "duration": -91,
    "start_time": "2022-01-20T17:38:06.757Z"
   },
   {
    "duration": -94,
    "start_time": "2022-01-20T17:38:06.761Z"
   },
   {
    "duration": -96,
    "start_time": "2022-01-20T17:38:06.764Z"
   },
   {
    "duration": -99,
    "start_time": "2022-01-20T17:38:06.768Z"
   },
   {
    "duration": -100,
    "start_time": "2022-01-20T17:38:06.771Z"
   },
   {
    "duration": -104,
    "start_time": "2022-01-20T17:38:06.776Z"
   },
   {
    "duration": -114,
    "start_time": "2022-01-20T17:38:06.787Z"
   },
   {
    "duration": -117,
    "start_time": "2022-01-20T17:38:06.791Z"
   },
   {
    "duration": -119,
    "start_time": "2022-01-20T17:38:06.794Z"
   },
   {
    "duration": -121,
    "start_time": "2022-01-20T17:38:06.797Z"
   },
   {
    "duration": -122,
    "start_time": "2022-01-20T17:38:06.799Z"
   },
   {
    "duration": -124,
    "start_time": "2022-01-20T17:38:06.802Z"
   },
   {
    "duration": -127,
    "start_time": "2022-01-20T17:38:06.806Z"
   },
   {
    "duration": -129,
    "start_time": "2022-01-20T17:38:06.809Z"
   },
   {
    "duration": -131,
    "start_time": "2022-01-20T17:38:06.812Z"
   },
   {
    "duration": -137,
    "start_time": "2022-01-20T17:38:06.819Z"
   },
   {
    "duration": -139,
    "start_time": "2022-01-20T17:38:06.822Z"
   },
   {
    "duration": -143,
    "start_time": "2022-01-20T17:38:06.827Z"
   },
   {
    "duration": -147,
    "start_time": "2022-01-20T17:38:06.832Z"
   },
   {
    "duration": -150,
    "start_time": "2022-01-20T17:38:06.836Z"
   },
   {
    "duration": -152,
    "start_time": "2022-01-20T17:38:06.840Z"
   },
   {
    "duration": -156,
    "start_time": "2022-01-20T17:38:06.844Z"
   },
   {
    "duration": -159,
    "start_time": "2022-01-20T17:38:06.848Z"
   },
   {
    "duration": 10,
    "start_time": "2022-01-20T17:43:22.360Z"
   },
   {
    "duration": 42,
    "start_time": "2022-01-20T17:43:22.372Z"
   },
   {
    "duration": 12,
    "start_time": "2022-01-20T17:43:22.417Z"
   },
   {
    "duration": 17,
    "start_time": "2022-01-20T17:43:22.431Z"
   },
   {
    "duration": 90,
    "start_time": "2022-01-20T17:43:22.450Z"
   },
   {
    "duration": 18,
    "start_time": "2022-01-20T17:43:22.542Z"
   },
   {
    "duration": 6,
    "start_time": "2022-01-20T17:43:22.562Z"
   },
   {
    "duration": 32,
    "start_time": "2022-01-20T17:43:22.571Z"
   },
   {
    "duration": 10,
    "start_time": "2022-01-20T17:43:22.606Z"
   },
   {
    "duration": 20,
    "start_time": "2022-01-20T17:43:22.618Z"
   },
   {
    "duration": 57,
    "start_time": "2022-01-20T17:43:22.641Z"
   },
   {
    "duration": 24,
    "start_time": "2022-01-20T17:43:22.701Z"
   },
   {
    "duration": 1617,
    "start_time": "2022-01-20T17:43:22.728Z"
   },
   {
    "duration": 10,
    "start_time": "2022-01-20T17:43:24.347Z"
   },
   {
    "duration": 235,
    "start_time": "2022-01-20T17:43:24.359Z"
   },
   {
    "duration": 3,
    "start_time": "2022-01-20T17:43:24.598Z"
   },
   {
    "duration": 614,
    "start_time": "2022-01-20T17:43:24.602Z"
   },
   {
    "duration": 16,
    "start_time": "2022-01-20T17:43:25.219Z"
   },
   {
    "duration": 31,
    "start_time": "2022-01-20T17:43:25.237Z"
   },
   {
    "duration": 6,
    "start_time": "2022-01-20T17:43:25.270Z"
   },
   {
    "duration": 43,
    "start_time": "2022-01-20T17:43:25.277Z"
   },
   {
    "duration": 12,
    "start_time": "2022-01-20T17:43:25.322Z"
   },
   {
    "duration": 88138,
    "start_time": "2022-01-20T17:43:25.338Z"
   },
   {
    "duration": 376,
    "start_time": "2022-01-20T17:44:53.478Z"
   },
   {
    "duration": 539,
    "start_time": "2022-01-20T17:44:53.856Z"
   },
   {
    "duration": 26,
    "start_time": "2022-01-20T17:44:54.398Z"
   },
   {
    "duration": 116414,
    "start_time": "2022-01-20T17:44:54.425Z"
   },
   {
    "duration": 340,
    "start_time": "2022-01-20T17:46:50.841Z"
   },
   {
    "duration": 4,
    "start_time": "2022-01-20T17:46:51.182Z"
   },
   {
    "duration": 39,
    "start_time": "2022-01-20T17:46:51.188Z"
   },
   {
    "duration": 75709,
    "start_time": "2022-01-20T17:46:51.228Z"
   },
   {
    "duration": 354,
    "start_time": "2022-01-20T17:48:06.938Z"
   },
   {
    "duration": 47527,
    "start_time": "2022-01-20T17:48:07.293Z"
   },
   {
    "duration": 545,
    "start_time": "2022-01-20T17:48:54.821Z"
   },
   {
    "duration": 1300,
    "start_time": "2022-01-20T17:48:55.367Z"
   },
   {
    "duration": 394,
    "start_time": "2022-01-20T17:48:56.669Z"
   },
   {
    "duration": 387,
    "start_time": "2022-01-20T17:48:57.065Z"
   },
   {
    "duration": 1177,
    "start_time": "2022-01-20T18:10:39.517Z"
   },
   {
    "duration": 29,
    "start_time": "2022-01-20T18:10:40.696Z"
   },
   {
    "duration": 9,
    "start_time": "2022-01-20T18:10:40.728Z"
   },
   {
    "duration": 16,
    "start_time": "2022-01-20T18:10:40.739Z"
   },
   {
    "duration": 56,
    "start_time": "2022-01-20T18:10:40.757Z"
   },
   {
    "duration": 11,
    "start_time": "2022-01-20T18:10:40.815Z"
   },
   {
    "duration": 3,
    "start_time": "2022-01-20T18:10:40.828Z"
   },
   {
    "duration": 7,
    "start_time": "2022-01-20T18:10:40.833Z"
   },
   {
    "duration": 5,
    "start_time": "2022-01-20T18:10:40.842Z"
   },
   {
    "duration": 5,
    "start_time": "2022-01-20T18:10:43.857Z"
   },
   {
    "duration": 520,
    "start_time": "2022-01-20T18:10:45.644Z"
   },
   {
    "duration": 39,
    "start_time": "2022-01-20T18:11:24.559Z"
   },
   {
    "duration": 15,
    "start_time": "2022-01-20T18:21:19.118Z"
   },
   {
    "duration": 45,
    "start_time": "2022-01-20T18:21:20.550Z"
   },
   {
    "duration": 12,
    "start_time": "2022-01-20T18:21:21.928Z"
   },
   {
    "duration": 1501,
    "start_time": "2022-01-20T18:21:28.392Z"
   },
   {
    "duration": 13,
    "start_time": "2022-01-20T18:21:32.358Z"
   },
   {
    "duration": 293,
    "start_time": "2022-01-20T18:21:32.895Z"
   },
   {
    "duration": 2,
    "start_time": "2022-01-20T18:21:36.713Z"
   },
   {
    "duration": 576,
    "start_time": "2022-01-20T18:21:38.681Z"
   },
   {
    "duration": 14,
    "start_time": "2022-01-20T18:21:43.972Z"
   },
   {
    "duration": 17,
    "start_time": "2022-01-20T18:21:46.581Z"
   },
   {
    "duration": 7,
    "start_time": "2022-01-20T18:38:55.950Z"
   },
   {
    "duration": 19,
    "start_time": "2022-01-20T18:38:59.062Z"
   },
   {
    "duration": 5,
    "start_time": "2022-01-20T19:02:08.958Z"
   },
   {
    "duration": 6,
    "start_time": "2022-01-20T19:08:04.838Z"
   },
   {
    "duration": 5,
    "start_time": "2022-01-20T19:16:37.759Z"
   },
   {
    "duration": 6,
    "start_time": "2022-01-20T19:25:02.228Z"
   },
   {
    "duration": 6,
    "start_time": "2022-01-20T19:31:02.251Z"
   },
   {
    "duration": 146063,
    "start_time": "2022-01-20T19:33:08.386Z"
   },
   {
    "duration": 341,
    "start_time": "2022-01-20T19:35:34.451Z"
   },
   {
    "duration": 255,
    "start_time": "2022-01-20T20:53:36.775Z"
   },
   {
    "duration": 275,
    "start_time": "2022-01-20T20:58:36.416Z"
   },
   {
    "duration": 6,
    "start_time": "2022-01-20T20:59:02.755Z"
   },
   {
    "duration": 8,
    "start_time": "2022-01-20T20:59:12.912Z"
   },
   {
    "duration": 498,
    "start_time": "2022-01-20T21:02:06.455Z"
   },
   {
    "duration": 7,
    "start_time": "2022-01-20T21:02:25.395Z"
   },
   {
    "duration": 8,
    "start_time": "2022-01-20T21:02:34.705Z"
   },
   {
    "duration": 4,
    "start_time": "2022-01-20T21:02:58.705Z"
   },
   {
    "duration": 9,
    "start_time": "2022-01-20T21:03:02.095Z"
   },
   {
    "duration": 8,
    "start_time": "2022-01-20T21:33:27.026Z"
   },
   {
    "duration": 26,
    "start_time": "2022-01-20T21:48:28.636Z"
   },
   {
    "duration": 195531,
    "start_time": "2022-01-20T21:48:31.824Z"
   },
   {
    "duration": 338,
    "start_time": "2022-01-20T21:52:38.570Z"
   },
   {
    "duration": 7,
    "start_time": "2022-01-20T21:55:11.636Z"
   },
   {
    "duration": 4,
    "start_time": "2022-01-20T21:55:16.136Z"
   },
   {
    "duration": 29,
    "start_time": "2022-01-20T21:55:25.257Z"
   },
   {
    "duration": 128440,
    "start_time": "2022-01-20T21:55:37.669Z"
   },
   {
    "duration": 326,
    "start_time": "2022-01-20T21:58:13.868Z"
   },
   {
    "duration": 7,
    "start_time": "2022-01-20T21:59:12.865Z"
   },
   {
    "duration": 9,
    "start_time": "2022-01-20T22:03:29.487Z"
   },
   {
    "duration": 278,
    "start_time": "2022-01-20T22:04:33.108Z"
   },
   {
    "duration": 12,
    "start_time": "2022-01-20T22:04:53.430Z"
   },
   {
    "duration": 11,
    "start_time": "2022-01-20T22:05:12.274Z"
   },
   {
    "duration": 79809,
    "start_time": "2022-01-20T22:05:33.848Z"
   },
   {
    "duration": 493,
    "start_time": "2022-01-20T22:08:19.296Z"
   },
   {
    "duration": 326,
    "start_time": "2022-01-20T22:10:27.600Z"
   },
   {
    "duration": 6,
    "start_time": "2022-01-20T22:11:47.004Z"
   },
   {
    "duration": 10,
    "start_time": "2022-01-20T22:13:07.729Z"
   },
   {
    "duration": 1295,
    "start_time": "2022-01-20T22:13:18.220Z"
   },
   {
    "duration": 396,
    "start_time": "2022-01-20T22:13:35.871Z"
   },
   {
    "duration": 10,
    "start_time": "2022-01-20T22:14:35.872Z"
   },
   {
    "duration": 9,
    "start_time": "2022-01-20T22:15:08.146Z"
   },
   {
    "duration": 125234,
    "start_time": "2022-01-20T22:17:10.656Z"
   },
   {
    "duration": 364,
    "start_time": "2022-01-20T22:19:22.530Z"
   },
   {
    "duration": 1267,
    "start_time": "2022-01-20T22:19:45.924Z"
   },
   {
    "duration": 393,
    "start_time": "2022-01-20T22:20:00.389Z"
   },
   {
    "duration": 7,
    "start_time": "2022-01-20T22:22:58.379Z"
   },
   {
    "duration": 384,
    "start_time": "2022-01-20T22:23:05.343Z"
   },
   {
    "duration": 7,
    "start_time": "2022-01-20T22:23:55.739Z"
   },
   {
    "duration": 9,
    "start_time": "2022-01-20T22:24:11.234Z"
   },
   {
    "duration": 4,
    "start_time": "2022-01-20T22:24:48.341Z"
   },
   {
    "duration": 9,
    "start_time": "2022-01-20T22:25:01.709Z"
   },
   {
    "duration": 1207,
    "start_time": "2022-01-21T06:52:46.178Z"
   },
   {
    "duration": 28,
    "start_time": "2022-01-21T06:52:47.386Z"
   },
   {
    "duration": 7,
    "start_time": "2022-01-21T06:52:47.416Z"
   },
   {
    "duration": 15,
    "start_time": "2022-01-21T06:52:48.725Z"
   },
   {
    "duration": 36,
    "start_time": "2022-01-21T06:52:49.363Z"
   },
   {
    "duration": 11,
    "start_time": "2022-01-21T06:53:42.441Z"
   },
   {
    "duration": 5,
    "start_time": "2022-01-21T06:53:44.067Z"
   },
   {
    "duration": 5,
    "start_time": "2022-01-21T06:54:05.387Z"
   },
   {
    "duration": 4,
    "start_time": "2022-01-21T06:54:06.018Z"
   },
   {
    "duration": 33,
    "start_time": "2022-01-21T06:54:23.315Z"
   },
   {
    "duration": 13,
    "start_time": "2022-01-21T06:54:31.867Z"
   },
   {
    "duration": 24,
    "start_time": "2022-01-21T06:54:34.791Z"
   },
   {
    "duration": 9,
    "start_time": "2022-01-21T06:54:36.063Z"
   },
   {
    "duration": 1099,
    "start_time": "2022-01-21T06:54:45.056Z"
   },
   {
    "duration": 9,
    "start_time": "2022-01-21T06:54:47.960Z"
   },
   {
    "duration": 226,
    "start_time": "2022-01-21T06:54:48.219Z"
   },
   {
    "duration": 2,
    "start_time": "2022-01-21T06:54:48.962Z"
   },
   {
    "duration": 345,
    "start_time": "2022-01-21T06:54:49.495Z"
   },
   {
    "duration": 14,
    "start_time": "2022-01-21T07:00:27.345Z"
   },
   {
    "duration": 16,
    "start_time": "2022-01-21T07:00:29.143Z"
   },
   {
    "duration": 6,
    "start_time": "2022-01-21T07:02:21.154Z"
   },
   {
    "duration": 16,
    "start_time": "2022-01-21T07:02:22.942Z"
   },
   {
    "duration": 6,
    "start_time": "2022-01-21T07:03:51.108Z"
   },
   {
    "duration": 4,
    "start_time": "2022-01-21T07:03:51.976Z"
   },
   {
    "duration": 5,
    "start_time": "2022-01-21T07:04:01.700Z"
   },
   {
    "duration": 131272,
    "start_time": "2022-01-21T07:04:02.373Z"
   },
   {
    "duration": 282,
    "start_time": "2022-01-21T07:06:13.647Z"
   },
   {
    "duration": 5,
    "start_time": "2022-01-21T07:06:13.931Z"
   },
   {
    "duration": 404,
    "start_time": "2022-01-21T07:06:22.161Z"
   },
   {
    "duration": 7,
    "start_time": "2022-01-21T07:06:23.054Z"
   },
   {
    "duration": 23,
    "start_time": "2022-01-21T07:06:33.240Z"
   },
   {
    "duration": 179122,
    "start_time": "2022-01-21T07:06:54.639Z"
   },
   {
    "duration": 283,
    "start_time": "2022-01-21T07:09:53.763Z"
   },
   {
    "duration": 7,
    "start_time": "2022-01-21T07:09:54.048Z"
   },
   {
    "duration": 10,
    "start_time": "2022-01-21T07:09:54.057Z"
   },
   {
    "duration": 35,
    "start_time": "2022-01-21T07:09:54.069Z"
   },
   {
    "duration": 117151,
    "start_time": "2022-01-21T07:09:54.106Z"
   },
   {
    "duration": 301,
    "start_time": "2022-01-21T07:11:51.259Z"
   },
   {
    "duration": 6,
    "start_time": "2022-01-21T07:11:51.562Z"
   },
   {
    "duration": 75662,
    "start_time": "2022-01-21T07:11:51.570Z"
   },
   {
    "duration": 273,
    "start_time": "2022-01-21T07:13:07.234Z"
   },
   {
    "duration": 5,
    "start_time": "2022-01-21T07:13:07.509Z"
   },
   {
    "duration": 434,
    "start_time": "2022-01-21T07:13:07.516Z"
   },
   {
    "duration": 6,
    "start_time": "2022-01-21T07:13:07.951Z"
   },
   {
    "duration": 1143,
    "start_time": "2022-01-21T07:13:07.959Z"
   },
   {
    "duration": 406,
    "start_time": "2022-01-21T07:13:09.103Z"
   },
   {
    "duration": 6,
    "start_time": "2022-01-21T07:13:09.510Z"
   },
   {
    "duration": 310,
    "start_time": "2022-01-21T07:13:34.373Z"
   },
   {
    "duration": 6,
    "start_time": "2022-01-21T07:13:35.094Z"
   },
   {
    "duration": 8,
    "start_time": "2022-01-21T07:13:35.390Z"
   },
   {
    "duration": 1176,
    "start_time": "2022-01-22T11:47:14.696Z"
   },
   {
    "duration": 28,
    "start_time": "2022-01-22T11:47:17.803Z"
   },
   {
    "duration": 10,
    "start_time": "2022-01-22T11:47:19.110Z"
   },
   {
    "duration": 14,
    "start_time": "2022-01-22T11:47:23.158Z"
   },
   {
    "duration": 35,
    "start_time": "2022-01-22T11:47:26.613Z"
   },
   {
    "duration": 11,
    "start_time": "2022-01-22T11:47:37.223Z"
   },
   {
    "duration": 5,
    "start_time": "2022-01-22T11:47:38.820Z"
   },
   {
    "duration": 4,
    "start_time": "2022-01-22T11:47:46.327Z"
   },
   {
    "duration": 4,
    "start_time": "2022-01-22T11:47:50.085Z"
   },
   {
    "duration": 33,
    "start_time": "2022-01-22T11:47:51.934Z"
   },
   {
    "duration": 13,
    "start_time": "2022-01-22T11:47:58.083Z"
   },
   {
    "duration": 452,
    "start_time": "2022-01-22T11:49:47.691Z"
   },
   {
    "duration": 339,
    "start_time": "2022-01-22T11:49:56.886Z"
   },
   {
    "duration": 369,
    "start_time": "2022-01-22T11:50:44.055Z"
   },
   {
    "duration": 18,
    "start_time": "2022-01-22T11:50:48.965Z"
   },
   {
    "duration": 1166,
    "start_time": "2022-01-22T11:51:39.005Z"
   },
   {
    "duration": 29,
    "start_time": "2022-01-22T11:51:40.173Z"
   },
   {
    "duration": 9,
    "start_time": "2022-01-22T11:51:40.204Z"
   },
   {
    "duration": 18,
    "start_time": "2022-01-22T11:51:40.215Z"
   },
   {
    "duration": 34,
    "start_time": "2022-01-22T11:51:40.235Z"
   },
   {
    "duration": 10,
    "start_time": "2022-01-22T11:51:40.270Z"
   },
   {
    "duration": 3,
    "start_time": "2022-01-22T11:51:40.281Z"
   },
   {
    "duration": 6,
    "start_time": "2022-01-22T11:51:40.286Z"
   },
   {
    "duration": 5,
    "start_time": "2022-01-22T11:51:40.293Z"
   },
   {
    "duration": 50,
    "start_time": "2022-01-22T11:51:40.299Z"
   },
   {
    "duration": 11,
    "start_time": "2022-01-22T11:51:40.351Z"
   },
   {
    "duration": 13,
    "start_time": "2022-01-22T11:51:45.982Z"
   },
   {
    "duration": 17,
    "start_time": "2022-01-22T11:51:48.429Z"
   },
   {
    "duration": 17,
    "start_time": "2022-01-22T11:51:59.576Z"
   },
   {
    "duration": 12,
    "start_time": "2022-01-22T11:52:47.333Z"
   },
   {
    "duration": 24,
    "start_time": "2022-01-22T11:53:00.772Z"
   },
   {
    "duration": 11,
    "start_time": "2022-01-22T11:53:18.702Z"
   },
   {
    "duration": 1341,
    "start_time": "2022-01-22T11:53:23.629Z"
   },
   {
    "duration": 8,
    "start_time": "2022-01-22T11:53:33.057Z"
   },
   {
    "duration": 157,
    "start_time": "2022-01-22T11:53:33.724Z"
   },
   {
    "duration": 2,
    "start_time": "2022-01-22T11:53:37.467Z"
   },
   {
    "duration": 441,
    "start_time": "2022-01-22T11:53:38.706Z"
   },
   {
    "duration": 3304,
    "start_time": "2022-01-22T11:53:44.359Z"
   },
   {
    "duration": 1208,
    "start_time": "2022-01-22T11:55:58.400Z"
   },
   {
    "duration": 32,
    "start_time": "2022-01-22T11:55:59.610Z"
   },
   {
    "duration": 7,
    "start_time": "2022-01-22T11:55:59.644Z"
   },
   {
    "duration": 17,
    "start_time": "2022-01-22T11:55:59.653Z"
   },
   {
    "duration": 33,
    "start_time": "2022-01-22T11:55:59.671Z"
   },
   {
    "duration": 30,
    "start_time": "2022-01-22T11:55:59.706Z"
   },
   {
    "duration": 3,
    "start_time": "2022-01-22T11:55:59.738Z"
   },
   {
    "duration": 6,
    "start_time": "2022-01-22T11:55:59.744Z"
   },
   {
    "duration": 4,
    "start_time": "2022-01-22T11:55:59.751Z"
   },
   {
    "duration": 32,
    "start_time": "2022-01-22T11:55:59.757Z"
   },
   {
    "duration": 11,
    "start_time": "2022-01-22T11:55:59.790Z"
   },
   {
    "duration": 31,
    "start_time": "2022-01-22T11:55:59.802Z"
   },
   {
    "duration": 23,
    "start_time": "2022-01-22T11:55:59.835Z"
   },
   {
    "duration": 9,
    "start_time": "2022-01-22T11:55:59.859Z"
   },
   {
    "duration": 1131,
    "start_time": "2022-01-22T11:55:59.869Z"
   },
   {
    "duration": 8,
    "start_time": "2022-01-22T11:56:01.002Z"
   },
   {
    "duration": 236,
    "start_time": "2022-01-22T11:56:01.012Z"
   },
   {
    "duration": 2,
    "start_time": "2022-01-22T11:56:01.250Z"
   },
   {
    "duration": 2,
    "start_time": "2022-01-22T11:56:03.718Z"
   },
   {
    "duration": 449,
    "start_time": "2022-01-22T11:56:04.363Z"
   },
   {
    "duration": 12,
    "start_time": "2022-01-22T11:56:22.984Z"
   },
   {
    "duration": 16,
    "start_time": "2022-01-22T11:56:37.334Z"
   },
   {
    "duration": 1271,
    "start_time": "2022-01-22T12:08:50.601Z"
   },
   {
    "duration": 28,
    "start_time": "2022-01-22T12:08:51.873Z"
   },
   {
    "duration": 8,
    "start_time": "2022-01-22T12:08:51.903Z"
   },
   {
    "duration": 14,
    "start_time": "2022-01-22T12:08:51.912Z"
   },
   {
    "duration": 35,
    "start_time": "2022-01-22T12:08:51.928Z"
   },
   {
    "duration": 11,
    "start_time": "2022-01-22T12:08:51.965Z"
   },
   {
    "duration": 4,
    "start_time": "2022-01-22T12:08:51.977Z"
   },
   {
    "duration": 5,
    "start_time": "2022-01-22T12:08:51.984Z"
   },
   {
    "duration": 37,
    "start_time": "2022-01-22T12:08:51.991Z"
   },
   {
    "duration": 31,
    "start_time": "2022-01-22T12:08:52.030Z"
   },
   {
    "duration": 13,
    "start_time": "2022-01-22T12:08:52.063Z"
   },
   {
    "duration": 12,
    "start_time": "2022-01-22T12:08:52.077Z"
   },
   {
    "duration": 53,
    "start_time": "2022-01-22T12:08:52.090Z"
   },
   {
    "duration": 10,
    "start_time": "2022-01-22T12:08:52.145Z"
   },
   {
    "duration": 1187,
    "start_time": "2022-01-22T12:08:52.156Z"
   },
   {
    "duration": 9,
    "start_time": "2022-01-22T12:08:53.345Z"
   },
   {
    "duration": 174,
    "start_time": "2022-01-22T12:08:53.356Z"
   },
   {
    "duration": 2,
    "start_time": "2022-01-22T12:08:53.532Z"
   },
   {
    "duration": 461,
    "start_time": "2022-01-22T12:08:53.536Z"
   },
   {
    "duration": 12,
    "start_time": "2022-01-22T12:08:53.998Z"
   },
   {
    "duration": 16,
    "start_time": "2022-01-22T12:08:54.012Z"
   },
   {
    "duration": 4,
    "start_time": "2022-01-22T12:08:54.029Z"
   },
   {
    "duration": 3,
    "start_time": "2022-01-22T12:08:57.311Z"
   },
   {
    "duration": 43,
    "start_time": "2022-01-22T12:08:58.359Z"
   },
   {
    "duration": 42,
    "start_time": "2022-01-22T12:10:04.559Z"
   },
   {
    "duration": 367,
    "start_time": "2022-01-22T12:10:36.610Z"
   },
   {
    "duration": 3,
    "start_time": "2022-01-22T12:10:56.284Z"
   },
   {
    "duration": 15,
    "start_time": "2022-01-22T12:11:32.857Z"
   },
   {
    "duration": 14,
    "start_time": "2022-01-22T12:11:47.004Z"
   },
   {
    "duration": 4,
    "start_time": "2022-01-22T12:12:00.019Z"
   },
   {
    "duration": 5,
    "start_time": "2022-01-22T12:12:27.930Z"
   },
   {
    "duration": 15,
    "start_time": "2022-01-22T12:13:44.529Z"
   },
   {
    "duration": 1140,
    "start_time": "2022-01-22T12:16:25.380Z"
   },
   {
    "duration": 31,
    "start_time": "2022-01-22T12:16:26.522Z"
   },
   {
    "duration": 7,
    "start_time": "2022-01-22T12:16:26.555Z"
   },
   {
    "duration": 12,
    "start_time": "2022-01-22T12:16:26.564Z"
   },
   {
    "duration": 35,
    "start_time": "2022-01-22T12:16:26.579Z"
   },
   {
    "duration": 20,
    "start_time": "2022-01-22T12:16:26.615Z"
   },
   {
    "duration": 4,
    "start_time": "2022-01-22T12:16:26.637Z"
   },
   {
    "duration": 6,
    "start_time": "2022-01-22T12:16:26.642Z"
   },
   {
    "duration": 3,
    "start_time": "2022-01-22T12:16:26.650Z"
   },
   {
    "duration": 32,
    "start_time": "2022-01-22T12:16:26.655Z"
   },
   {
    "duration": 46,
    "start_time": "2022-01-22T12:16:26.688Z"
   },
   {
    "duration": 11,
    "start_time": "2022-01-22T12:16:26.736Z"
   },
   {
    "duration": 24,
    "start_time": "2022-01-22T12:16:26.749Z"
   },
   {
    "duration": 11,
    "start_time": "2022-01-22T12:16:26.774Z"
   },
   {
    "duration": 1129,
    "start_time": "2022-01-22T12:16:26.787Z"
   },
   {
    "duration": 15,
    "start_time": "2022-01-22T12:16:27.917Z"
   },
   {
    "duration": 219,
    "start_time": "2022-01-22T12:16:27.934Z"
   },
   {
    "duration": 2,
    "start_time": "2022-01-22T12:16:28.155Z"
   },
   {
    "duration": 471,
    "start_time": "2022-01-22T12:16:28.159Z"
   },
   {
    "duration": 12,
    "start_time": "2022-01-22T12:16:28.631Z"
   },
   {
    "duration": 5,
    "start_time": "2022-01-22T12:16:28.645Z"
   },
   {
    "duration": 4,
    "start_time": "2022-01-22T12:16:28.651Z"
   },
   {
    "duration": 3,
    "start_time": "2022-01-22T12:16:30.276Z"
   },
   {
    "duration": 48,
    "start_time": "2022-01-22T12:16:32.116Z"
   },
   {
    "duration": 41,
    "start_time": "2022-01-22T12:16:44.080Z"
   },
   {
    "duration": 5,
    "start_time": "2022-01-22T12:17:55.765Z"
   },
   {
    "duration": 5,
    "start_time": "2022-01-22T12:17:57.766Z"
   },
   {
    "duration": 6,
    "start_time": "2022-01-22T12:18:01.417Z"
   },
   {
    "duration": 131806,
    "start_time": "2022-01-22T12:18:03.094Z"
   },
   {
    "duration": 271,
    "start_time": "2022-01-22T12:43:03.230Z"
   },
   {
    "duration": 6,
    "start_time": "2022-01-22T12:43:06.856Z"
   },
   {
    "duration": 453,
    "start_time": "2022-01-22T12:43:14.991Z"
   },
   {
    "duration": 6,
    "start_time": "2022-01-22T12:43:29.449Z"
   },
   {
    "duration": 46,
    "start_time": "2022-01-22T12:43:37.056Z"
   },
   {
    "duration": 174665,
    "start_time": "2022-01-22T12:43:44.158Z"
   },
   {
    "duration": 275,
    "start_time": "2022-01-22T12:46:59.865Z"
   },
   {
    "duration": 6,
    "start_time": "2022-01-22T12:47:08.128Z"
   },
   {
    "duration": 3,
    "start_time": "2022-01-22T12:47:14.743Z"
   },
   {
    "duration": 48,
    "start_time": "2022-01-22T12:47:16.775Z"
   },
   {
    "duration": 113200,
    "start_time": "2022-01-22T12:47:18.536Z"
   },
   {
    "duration": 271,
    "start_time": "2022-01-22T12:49:23.733Z"
   },
   {
    "duration": 7,
    "start_time": "2022-01-22T12:49:30.686Z"
   },
   {
    "duration": 71906,
    "start_time": "2022-01-22T12:49:57.499Z"
   },
   {
    "duration": 342,
    "start_time": "2022-01-22T12:52:19.350Z"
   },
   {
    "duration": 8,
    "start_time": "2022-01-22T12:52:26.876Z"
   },
   {
    "duration": 452,
    "start_time": "2022-01-22T12:52:40.304Z"
   },
   {
    "duration": 7,
    "start_time": "2022-01-22T12:52:56.323Z"
   },
   {
    "duration": 1235,
    "start_time": "2022-01-22T12:53:01.457Z"
   },
   {
    "duration": 339,
    "start_time": "2022-01-22T12:53:44.738Z"
   },
   {
    "duration": 6,
    "start_time": "2022-01-22T12:53:59.245Z"
   },
   {
    "duration": 316,
    "start_time": "2022-01-22T12:58:38.696Z"
   },
   {
    "duration": 7,
    "start_time": "2022-01-22T12:59:30.652Z"
   },
   {
    "duration": 9,
    "start_time": "2022-01-22T12:59:55.939Z"
   },
   {
    "duration": 7,
    "start_time": "2022-01-23T09:04:11.021Z"
   },
   {
    "duration": 1162,
    "start_time": "2022-01-23T09:04:30.906Z"
   },
   {
    "duration": 27,
    "start_time": "2022-01-23T09:04:32.965Z"
   },
   {
    "duration": 9,
    "start_time": "2022-01-23T09:04:34.142Z"
   },
   {
    "duration": 15,
    "start_time": "2022-01-23T09:04:35.866Z"
   },
   {
    "duration": 39,
    "start_time": "2022-01-23T09:04:36.578Z"
   },
   {
    "duration": 11,
    "start_time": "2022-01-23T09:04:38.316Z"
   },
   {
    "duration": 4,
    "start_time": "2022-01-23T09:04:39.277Z"
   },
   {
    "duration": 5,
    "start_time": "2022-01-23T09:04:42.725Z"
   },
   {
    "duration": 5,
    "start_time": "2022-01-23T09:04:43.385Z"
   },
   {
    "duration": 33,
    "start_time": "2022-01-23T09:04:45.220Z"
   },
   {
    "duration": 14,
    "start_time": "2022-01-23T09:04:46.889Z"
   },
   {
    "duration": 11,
    "start_time": "2022-01-23T09:04:47.842Z"
   },
   {
    "duration": 25,
    "start_time": "2022-01-23T09:04:48.563Z"
   },
   {
    "duration": 10,
    "start_time": "2022-01-23T09:04:51.136Z"
   },
   {
    "duration": 1313,
    "start_time": "2022-01-23T09:04:56.583Z"
   },
   {
    "duration": 10,
    "start_time": "2022-01-23T09:05:09.749Z"
   },
   {
    "duration": 242,
    "start_time": "2022-01-23T09:05:11.311Z"
   },
   {
    "duration": 2,
    "start_time": "2022-01-23T09:05:14.323Z"
   },
   {
    "duration": 290,
    "start_time": "2022-01-23T09:05:15.467Z"
   },
   {
    "duration": 13,
    "start_time": "2022-01-23T09:05:22.728Z"
   },
   {
    "duration": 7,
    "start_time": "2022-01-23T09:05:26.516Z"
   },
   {
    "duration": 3,
    "start_time": "2022-01-23T09:05:29.178Z"
   },
   {
    "duration": 43,
    "start_time": "2022-01-23T09:05:29.588Z"
   },
   {
    "duration": 5,
    "start_time": "2022-01-23T09:05:31.713Z"
   },
   {
    "duration": 5,
    "start_time": "2022-01-23T09:05:34.293Z"
   },
   {
    "duration": 5,
    "start_time": "2022-01-23T09:05:39.432Z"
   },
   {
    "duration": 135132,
    "start_time": "2022-01-23T09:05:40.502Z"
   },
   {
    "duration": 315,
    "start_time": "2022-01-23T09:08:02.814Z"
   },
   {
    "duration": 6,
    "start_time": "2022-01-23T09:08:06.821Z"
   },
   {
    "duration": 461,
    "start_time": "2022-01-23T09:08:11.520Z"
   },
   {
    "duration": 6,
    "start_time": "2022-01-23T09:08:15.056Z"
   },
   {
    "duration": 47,
    "start_time": "2022-01-23T09:08:20.619Z"
   },
   {
    "duration": 180012,
    "start_time": "2022-01-23T09:08:24.018Z"
   },
   {
    "duration": 306,
    "start_time": "2022-01-23T09:12:18.669Z"
   },
   {
    "duration": 6,
    "start_time": "2022-01-23T09:12:21.377Z"
   },
   {
    "duration": 4,
    "start_time": "2022-01-23T09:12:22.234Z"
   },
   {
    "duration": 62,
    "start_time": "2022-01-23T09:12:23.996Z"
   },
   {
    "duration": 117045,
    "start_time": "2022-01-23T09:12:25.017Z"
   },
   {
    "duration": 318,
    "start_time": "2022-01-23T09:22:33.536Z"
   },
   {
    "duration": 7,
    "start_time": "2022-01-23T09:22:34.738Z"
   },
   {
    "duration": 75764,
    "start_time": "2022-01-23T09:22:40.250Z"
   },
   {
    "duration": 309,
    "start_time": "2022-01-23T09:24:49.479Z"
   },
   {
    "duration": 6,
    "start_time": "2022-01-23T09:24:50.531Z"
   },
   {
    "duration": 480,
    "start_time": "2022-01-23T09:24:54.603Z"
   },
   {
    "duration": 8,
    "start_time": "2022-01-23T09:24:57.917Z"
   },
   {
    "duration": 1229,
    "start_time": "2022-01-23T09:25:01.518Z"
   },
   {
    "duration": 458,
    "start_time": "2022-01-23T09:25:02.749Z"
   },
   {
    "duration": 7,
    "start_time": "2022-01-23T09:25:11.783Z"
   },
   {
    "duration": 388,
    "start_time": "2022-01-23T09:25:20.191Z"
   },
   {
    "duration": 9,
    "start_time": "2022-01-23T09:25:26.225Z"
   },
   {
    "duration": 10,
    "start_time": "2022-01-23T09:25:32.602Z"
   },
   {
    "duration": 9,
    "start_time": "2022-01-23T09:25:48.349Z"
   },
   {
    "duration": 686,
    "start_time": "2022-01-23T09:25:51.692Z"
   },
   {
    "duration": 404,
    "start_time": "2022-01-23T09:25:55.010Z"
   },
   {
    "duration": 366,
    "start_time": "2022-01-23T09:34:34.258Z"
   },
   {
    "duration": 281,
    "start_time": "2022-01-23T09:42:29.784Z"
   },
   {
    "duration": 267,
    "start_time": "2022-01-23T09:44:30.505Z"
   },
   {
    "duration": 4468,
    "start_time": "2022-02-09T08:11:34.407Z"
   },
   {
    "duration": 317,
    "start_time": "2022-02-09T08:11:42.269Z"
   },
   {
    "duration": 2464,
    "start_time": "2022-02-09T08:11:52.094Z"
   },
   {
    "duration": 31,
    "start_time": "2022-02-09T08:11:54.560Z"
   },
   {
    "duration": 13,
    "start_time": "2022-02-09T08:11:54.594Z"
   },
   {
    "duration": 59,
    "start_time": "2022-02-09T08:11:54.610Z"
   },
   {
    "duration": 63,
    "start_time": "2022-02-09T08:11:54.672Z"
   },
   {
    "duration": 49,
    "start_time": "2022-02-09T08:11:54.738Z"
   },
   {
    "duration": 6,
    "start_time": "2022-02-09T08:11:54.790Z"
   },
   {
    "duration": 13,
    "start_time": "2022-02-09T08:11:54.800Z"
   },
   {
    "duration": 7,
    "start_time": "2022-02-09T08:11:54.815Z"
   },
   {
    "duration": 103,
    "start_time": "2022-02-09T08:11:54.824Z"
   },
   {
    "duration": 52,
    "start_time": "2022-02-09T08:11:54.929Z"
   },
   {
    "duration": 18,
    "start_time": "2022-02-09T08:11:54.983Z"
   },
   {
    "duration": 72,
    "start_time": "2022-02-09T08:11:55.003Z"
   },
   {
    "duration": 15,
    "start_time": "2022-02-09T08:11:55.077Z"
   },
   {
    "duration": 2242,
    "start_time": "2022-02-09T08:11:55.094Z"
   },
   {
    "duration": 32,
    "start_time": "2022-02-09T08:11:57.339Z"
   },
   {
    "duration": 423,
    "start_time": "2022-02-09T08:11:57.373Z"
   },
   {
    "duration": 3479,
    "start_time": "2022-02-09T08:11:57.799Z"
   },
   {
    "duration": 867,
    "start_time": "2022-02-09T08:12:11.691Z"
   }
  ],
  "kernelspec": {
   "display_name": "Python 3",
   "language": "python",
   "name": "python3"
  },
  "language_info": {
   "codemirror_mode": {
    "name": "ipython",
    "version": 3
   },
   "file_extension": ".py",
   "mimetype": "text/x-python",
   "name": "python",
   "nbconvert_exporter": "python",
   "pygments_lexer": "ipython3",
   "version": "3.7.8"
  },
  "toc": {
   "base_numbering": 1,
   "nav_menu": {},
   "number_sections": true,
   "sideBar": true,
   "skip_h1_title": true,
   "title_cell": "Содержание",
   "title_sidebar": "Contents",
   "toc_cell": true,
   "toc_position": {
    "height": "calc(100% - 180px)",
    "left": "10px",
    "top": "150px",
    "width": "165px"
   },
   "toc_section_display": true,
   "toc_window_display": true
  }
 },
 "nbformat": 4,
 "nbformat_minor": 2
}
